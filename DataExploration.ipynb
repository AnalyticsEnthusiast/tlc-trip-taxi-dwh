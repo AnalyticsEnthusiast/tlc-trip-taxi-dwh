{
 "cells": [
  {
   "cell_type": "markdown",
   "metadata": {
    "editable": true
   },
   "source": [
    "### Data Exploration of TLC Trip Record Data\n",
    "\n",
    "**Name: Darren Foley**\n",
    "\n",
    "**Date: 2021-10-21**"
   ]
  },
  {
   "cell_type": "code",
   "execution_count": 2,
   "metadata": {
    "editable": true
   },
   "outputs": [
    {
     "name": "stdout",
     "output_type": "stream",
     "text": [
      "Collecting pip\n",
      "\u001b[?25l  Downloading https://files.pythonhosted.org/packages/a4/6d/6463d49a933f547439d6b5b98b46af8742cc03ae83543e4d7688c2420f8b/pip-21.3.1-py3-none-any.whl (1.7MB)\n",
      "\u001b[K    100% |████████████████████████████████| 1.7MB 5.9MB/s ta 0:00:011    94% |██████████████████████████████▎ | 1.6MB 27.9MB/s eta 0:00:01\n",
      "\u001b[?25hInstalling collected packages: pip\n",
      "  Found existing installation: pip 18.1\n",
      "    Uninstalling pip-18.1:\n",
      "      Successfully uninstalled pip-18.1\n",
      "Successfully installed pip-21.3.1\n"
     ]
    }
   ],
   "source": [
    "!pip install --upgrade pip"
   ]
  },
  {
   "cell_type": "code",
   "execution_count": 3,
   "metadata": {
    "editable": true
   },
   "outputs": [
    {
     "name": "stdout",
     "output_type": "stream",
     "text": [
      "Collecting geopandas\n",
      "  Downloading geopandas-0.9.0-py2.py3-none-any.whl (994 kB)\n",
      "     |████████████████████████████████| 994 kB 3.9 MB/s            \n",
      "\u001b[?25hCollecting pandas>=0.24.0\n",
      "  Downloading pandas-1.1.5-cp36-cp36m-manylinux1_x86_64.whl (9.5 MB)\n",
      "     |████████████████████████████████| 9.5 MB 30.4 MB/s            \n",
      "\u001b[?25hCollecting pyproj>=2.2.0\n",
      "  Downloading pyproj-3.0.1-cp36-cp36m-manylinux2010_x86_64.whl (6.5 MB)\n",
      "     |████████████████████████████████| 6.5 MB 28.8 MB/s            \n",
      "\u001b[?25hCollecting fiona>=1.8\n",
      "  Downloading Fiona-1.8.20-cp36-cp36m-manylinux_2_5_x86_64.manylinux1_x86_64.whl (15.4 MB)\n",
      "     |████████████████████████████████| 15.4 MB 30.9 MB/s            \n",
      "\u001b[?25hRequirement already satisfied: shapely>=1.6 in /opt/conda/lib/python3.6/site-packages (from geopandas) (1.6.4.post1)\n",
      "Requirement already satisfied: six>=1.7 in /opt/conda/lib/python3.6/site-packages (from fiona>=1.8->geopandas) (1.11.0)\n",
      "Collecting munch\n",
      "  Downloading munch-2.5.0-py2.py3-none-any.whl (10 kB)\n",
      "Requirement already satisfied: setuptools in /opt/conda/lib/python3.6/site-packages (from fiona>=1.8->geopandas) (38.4.0)\n",
      "Requirement already satisfied: attrs>=17 in /opt/conda/lib/python3.6/site-packages (from fiona>=1.8->geopandas) (19.1.0)\n",
      "Collecting click-plugins>=1.0\n",
      "  Downloading click_plugins-1.1.1-py2.py3-none-any.whl (7.5 kB)\n",
      "Requirement already satisfied: click>=4.0 in /opt/conda/lib/python3.6/site-packages (from fiona>=1.8->geopandas) (6.7)\n",
      "Collecting cligj>=0.5\n",
      "  Downloading cligj-0.7.2-py3-none-any.whl (7.1 kB)\n",
      "Requirement already satisfied: certifi in /opt/conda/lib/python3.6/site-packages (from fiona>=1.8->geopandas) (2019.11.28)\n",
      "Collecting python-dateutil>=2.7.3\n",
      "  Downloading python_dateutil-2.8.2-py2.py3-none-any.whl (247 kB)\n",
      "     |████████████████████████████████| 247 kB 31.3 MB/s            \n",
      "\u001b[?25hRequirement already satisfied: pytz>=2017.2 in /opt/conda/lib/python3.6/site-packages (from pandas>=0.24.0->geopandas) (2017.3)\n",
      "Collecting numpy>=1.15.4\n",
      "  Downloading numpy-1.19.5-cp36-cp36m-manylinux2010_x86_64.whl (14.8 MB)\n",
      "     |████████████████████████████████| 14.8 MB 26.4 MB/s            \n",
      "\u001b[?25hInstalling collected packages: python-dateutil, numpy, munch, cligj, click-plugins, pyproj, pandas, fiona, geopandas\n",
      "  Attempting uninstall: python-dateutil\n",
      "    Found existing installation: python-dateutil 2.6.1\n",
      "    Uninstalling python-dateutil-2.6.1:\n",
      "      Successfully uninstalled python-dateutil-2.6.1\n",
      "  Attempting uninstall: numpy\n",
      "    Found existing installation: numpy 1.12.1\n",
      "    Uninstalling numpy-1.12.1:\n",
      "      Successfully uninstalled numpy-1.12.1\n",
      "  Attempting uninstall: pandas\n",
      "    Found existing installation: pandas 0.23.3\n",
      "    Uninstalling pandas-0.23.3:\n",
      "      Successfully uninstalled pandas-0.23.3\n",
      "\u001b[31mERROR: pip's dependency resolver does not currently take into account all the packages that are installed. This behaviour is the source of the following dependency conflicts.\n",
      "tensorflow 1.3.0 requires tensorflow-tensorboard<0.2.0,>=0.1.0, which is not installed.\u001b[0m\n",
      "Successfully installed click-plugins-1.1.1 cligj-0.7.2 fiona-1.8.20 geopandas-0.9.0 munch-2.5.0 numpy-1.19.5 pandas-1.1.5 pyproj-3.0.1 python-dateutil-2.8.2\n",
      "\u001b[33mWARNING: Running pip as the 'root' user can result in broken permissions and conflicting behaviour with the system package manager. It is recommended to use a virtual environment instead: https://pip.pypa.io/warnings/venv\u001b[0m\n"
     ]
    }
   ],
   "source": [
    "!pip install geopandas"
   ]
  },
  {
   "cell_type": "code",
   "execution_count": 1,
   "metadata": {
    "editable": true
   },
   "outputs": [],
   "source": [
    "import pandas as pd\n",
    "import configparser\n",
    "import geopandas as gpd\n",
    "import os\n",
    "import sys\n",
    "import pprint"
   ]
  },
  {
   "cell_type": "markdown",
   "metadata": {
    "editable": true
   },
   "source": [
    "### File 1: data/yellow_tripdata_2020-12.csv"
   ]
  },
  {
   "cell_type": "code",
   "execution_count": 27,
   "metadata": {
    "editable": true
   },
   "outputs": [],
   "source": [
    "yellow_taxi_trips = \"data/yellow_tripdata_2020-12.csv\""
   ]
  },
  {
   "cell_type": "code",
   "execution_count": 5,
   "metadata": {
    "editable": true
   },
   "outputs": [
    {
     "name": "stdout",
     "output_type": "stream",
     "text": [
      "VendorID,tpep_pickup_datetime,tpep_dropoff_datetime,passenger_count,trip_distance,RatecodeID,store_and_fwd_flag,PULocationID,DOLocationID,payment_type,fare_amount,extra,mta_tax,tip_amount,tolls_amount,improvement_surcharge,total_amount,congestion_surcharge\n",
      "1,2020-12-01 00:07:13,2020-12-01 00:18:12,1,7.60,1,N,138,263,1,21.5,3,0.5,2.5,6.12,0.3,33.92,2.5\n",
      "1,2020-12-01 00:41:19,2020-12-01 00:49:45,1,1.60,1,N,140,263,1,8,3,0.5,2.95,0,0.3,14.75,2.5\n",
      "2,2020-12-01 00:33:40,2020-12-01 01:00:35,1,16.74,2,N,132,164,1,52,0,0.5,2.5,6.12,0.3,63.92,2.5\n",
      "2,2020-12-01 00:02:15,2020-12-01 00:13:09,1,4.16,1,N,238,48,1,14,0.5,0.5,1,0,0.3,18.8,2.5\n",
      "2,2020-12-01 00:37:42,2020-12-01 00:45:11,1,2.22,1,N,238,41,2,8.5,0.5,0.5,0,0,0.3,9.8,0\n",
      "1,2020-12-01 00:27:47,2020-12-01 00:45:40,0,8.40,1,N,138,137,1,25,3,0.5,6,6.12,0.3,40.92,2.5\n",
      "2,2020-12-01 00:40:47,2020-12-01 00:57:03,1,6.44,1,N,132,191,1,19.5,0.5,0.5,4.16,0,0.3,24.96,0\n",
      "2,2020-12-01 00:01:42,2020-12-01 00:06:06,1,.99,1,N,234,137,1,5.5,0.5,0.5,1.86,0,0.3,11.16,2.5\n",
      "2,2020-12-01 00:58:24,2020-12-01 01:36:14,2,11.81,1,N,261,7,1,36.5,0.5,0.5,1,0,0.3,41.3,2.5\n",
      "cat: write error: Broken pipe\n"
     ]
    }
   ],
   "source": [
    "!cat data/yellow_tripdata_2020-12.csv | head -n10"
   ]
  },
  {
   "cell_type": "code",
   "execution_count": 28,
   "metadata": {
    "editable": true
   },
   "outputs": [
    {
     "name": "stderr",
     "output_type": "stream",
     "text": [
      "/opt/conda/lib/python3.6/site-packages/IPython/core/interactiveshell.py:2785: DtypeWarning: Columns (6) have mixed types. Specify dtype option on import or set low_memory=False.\n",
      "  interactivity=interactivity, compiler=compiler, result=result)\n"
     ]
    }
   ],
   "source": [
    "# 18 columns\n",
    "headers = [\"VendorID\",\"tpep_pickup_datetime\",\"tpep_dropoff_datetime\",\"passenger_count\",\"trip_distance\",\"RatecodeID\",\"store_and_fwd_flag\",\"PULocationID\",\n",
    "           \"DOLocationID\",\"payment_type\",\"fare_amount\",\"extra\",\"mta_tax\",\"tip_amount\",\"tolls_amount\",\"improvement_surcharge\",\"total_amount\",\"congestion_surcharge\"]\n",
    "\n",
    "\"\"\"\n",
    "1, int\n",
    "2020-12-01 00:07:13, str\n",
    "2020-12-01 00:18:12, str\n",
    "1, int\n",
    "7.60, float\n",
    "1, str (mixed types)\n",
    "N, str\n",
    "138, int\n",
    "263, int\n",
    "1, int\n",
    "21.5, float\n",
    "3, int \n",
    "0.5, float\n",
    "2.5, float\n",
    "6.12, float\n",
    "0.3, float\n",
    "33.92, float\n",
    "2.5 float\n",
    "\"\"\"\n",
    "dtypes = {\"c1\": \"int\", \n",
    "          \"c2\": \"str\",\n",
    "          \"c3\": \"str\",\n",
    "          \"c4\": \"float\", \n",
    "          \"c5\": \"float\",\n",
    "          \"c6\": \"float\",\n",
    "          \"c7\": \"str\",\n",
    "          \"c8\":\"str\",\n",
    "          \"c9\":\"str\",\n",
    "          \"c10\":\"str\",\n",
    "          \"c11\":\"float\",\n",
    "          \"c12\":\"float\",\n",
    "          \"c13\":\"float\",\n",
    "          \"c14\":\"float\",\n",
    "          \"c15\":\"float\",\n",
    "          \"c16\":\"float\",\n",
    "          \"c17\":\"float\",\n",
    "          \"c18\":\"float\"}\n",
    "\n",
    "df_yellow = pd.read_csv(yellow_taxi_trips, sep=\",\", header=None, names=headers, dtype=dtypes, skiprows=1)"
   ]
  },
  {
   "cell_type": "code",
   "execution_count": 29,
   "metadata": {
    "editable": true
   },
   "outputs": [
    {
     "data": {
      "text/html": [
       "<div>\n",
       "<style scoped>\n",
       "    .dataframe tbody tr th:only-of-type {\n",
       "        vertical-align: middle;\n",
       "    }\n",
       "\n",
       "    .dataframe tbody tr th {\n",
       "        vertical-align: top;\n",
       "    }\n",
       "\n",
       "    .dataframe thead th {\n",
       "        text-align: right;\n",
       "    }\n",
       "</style>\n",
       "<table border=\"1\" class=\"dataframe\">\n",
       "  <thead>\n",
       "    <tr style=\"text-align: right;\">\n",
       "      <th></th>\n",
       "      <th>VendorID</th>\n",
       "      <th>tpep_pickup_datetime</th>\n",
       "      <th>tpep_dropoff_datetime</th>\n",
       "      <th>passenger_count</th>\n",
       "      <th>trip_distance</th>\n",
       "      <th>RatecodeID</th>\n",
       "      <th>store_and_fwd_flag</th>\n",
       "      <th>PULocationID</th>\n",
       "      <th>DOLocationID</th>\n",
       "      <th>payment_type</th>\n",
       "      <th>fare_amount</th>\n",
       "      <th>extra</th>\n",
       "      <th>mta_tax</th>\n",
       "      <th>tip_amount</th>\n",
       "      <th>tolls_amount</th>\n",
       "      <th>improvement_surcharge</th>\n",
       "      <th>total_amount</th>\n",
       "      <th>congestion_surcharge</th>\n",
       "    </tr>\n",
       "  </thead>\n",
       "  <tbody>\n",
       "    <tr>\n",
       "      <th>0</th>\n",
       "      <td>1.0</td>\n",
       "      <td>2020-12-01 00:07:13</td>\n",
       "      <td>2020-12-01 00:18:12</td>\n",
       "      <td>1.0</td>\n",
       "      <td>7.60</td>\n",
       "      <td>1.0</td>\n",
       "      <td>N</td>\n",
       "      <td>138</td>\n",
       "      <td>263</td>\n",
       "      <td>1.0</td>\n",
       "      <td>21.5</td>\n",
       "      <td>3.0</td>\n",
       "      <td>0.5</td>\n",
       "      <td>2.50</td>\n",
       "      <td>6.12</td>\n",
       "      <td>0.3</td>\n",
       "      <td>33.92</td>\n",
       "      <td>2.5</td>\n",
       "    </tr>\n",
       "    <tr>\n",
       "      <th>1</th>\n",
       "      <td>1.0</td>\n",
       "      <td>2020-12-01 00:41:19</td>\n",
       "      <td>2020-12-01 00:49:45</td>\n",
       "      <td>1.0</td>\n",
       "      <td>1.60</td>\n",
       "      <td>1.0</td>\n",
       "      <td>N</td>\n",
       "      <td>140</td>\n",
       "      <td>263</td>\n",
       "      <td>1.0</td>\n",
       "      <td>8.0</td>\n",
       "      <td>3.0</td>\n",
       "      <td>0.5</td>\n",
       "      <td>2.95</td>\n",
       "      <td>0.00</td>\n",
       "      <td>0.3</td>\n",
       "      <td>14.75</td>\n",
       "      <td>2.5</td>\n",
       "    </tr>\n",
       "    <tr>\n",
       "      <th>2</th>\n",
       "      <td>2.0</td>\n",
       "      <td>2020-12-01 00:33:40</td>\n",
       "      <td>2020-12-01 01:00:35</td>\n",
       "      <td>1.0</td>\n",
       "      <td>16.74</td>\n",
       "      <td>2.0</td>\n",
       "      <td>N</td>\n",
       "      <td>132</td>\n",
       "      <td>164</td>\n",
       "      <td>1.0</td>\n",
       "      <td>52.0</td>\n",
       "      <td>0.0</td>\n",
       "      <td>0.5</td>\n",
       "      <td>2.50</td>\n",
       "      <td>6.12</td>\n",
       "      <td>0.3</td>\n",
       "      <td>63.92</td>\n",
       "      <td>2.5</td>\n",
       "    </tr>\n",
       "    <tr>\n",
       "      <th>3</th>\n",
       "      <td>2.0</td>\n",
       "      <td>2020-12-01 00:02:15</td>\n",
       "      <td>2020-12-01 00:13:09</td>\n",
       "      <td>1.0</td>\n",
       "      <td>4.16</td>\n",
       "      <td>1.0</td>\n",
       "      <td>N</td>\n",
       "      <td>238</td>\n",
       "      <td>48</td>\n",
       "      <td>1.0</td>\n",
       "      <td>14.0</td>\n",
       "      <td>0.5</td>\n",
       "      <td>0.5</td>\n",
       "      <td>1.00</td>\n",
       "      <td>0.00</td>\n",
       "      <td>0.3</td>\n",
       "      <td>18.80</td>\n",
       "      <td>2.5</td>\n",
       "    </tr>\n",
       "    <tr>\n",
       "      <th>4</th>\n",
       "      <td>2.0</td>\n",
       "      <td>2020-12-01 00:37:42</td>\n",
       "      <td>2020-12-01 00:45:11</td>\n",
       "      <td>1.0</td>\n",
       "      <td>2.22</td>\n",
       "      <td>1.0</td>\n",
       "      <td>N</td>\n",
       "      <td>238</td>\n",
       "      <td>41</td>\n",
       "      <td>2.0</td>\n",
       "      <td>8.5</td>\n",
       "      <td>0.5</td>\n",
       "      <td>0.5</td>\n",
       "      <td>0.00</td>\n",
       "      <td>0.00</td>\n",
       "      <td>0.3</td>\n",
       "      <td>9.80</td>\n",
       "      <td>0.0</td>\n",
       "    </tr>\n",
       "  </tbody>\n",
       "</table>\n",
       "</div>"
      ],
      "text/plain": [
       "   VendorID tpep_pickup_datetime tpep_dropoff_datetime  passenger_count  \\\n",
       "0       1.0  2020-12-01 00:07:13   2020-12-01 00:18:12              1.0   \n",
       "1       1.0  2020-12-01 00:41:19   2020-12-01 00:49:45              1.0   \n",
       "2       2.0  2020-12-01 00:33:40   2020-12-01 01:00:35              1.0   \n",
       "3       2.0  2020-12-01 00:02:15   2020-12-01 00:13:09              1.0   \n",
       "4       2.0  2020-12-01 00:37:42   2020-12-01 00:45:11              1.0   \n",
       "\n",
       "   trip_distance  RatecodeID store_and_fwd_flag  PULocationID  DOLocationID  \\\n",
       "0           7.60         1.0                  N           138           263   \n",
       "1           1.60         1.0                  N           140           263   \n",
       "2          16.74         2.0                  N           132           164   \n",
       "3           4.16         1.0                  N           238            48   \n",
       "4           2.22         1.0                  N           238            41   \n",
       "\n",
       "   payment_type  fare_amount  extra  mta_tax  tip_amount  tolls_amount  \\\n",
       "0           1.0         21.5    3.0      0.5        2.50          6.12   \n",
       "1           1.0          8.0    3.0      0.5        2.95          0.00   \n",
       "2           1.0         52.0    0.0      0.5        2.50          6.12   \n",
       "3           1.0         14.0    0.5      0.5        1.00          0.00   \n",
       "4           2.0          8.5    0.5      0.5        0.00          0.00   \n",
       "\n",
       "   improvement_surcharge  total_amount  congestion_surcharge  \n",
       "0                    0.3         33.92                   2.5  \n",
       "1                    0.3         14.75                   2.5  \n",
       "2                    0.3         63.92                   2.5  \n",
       "3                    0.3         18.80                   2.5  \n",
       "4                    0.3          9.80                   0.0  "
      ]
     },
     "execution_count": 29,
     "metadata": {},
     "output_type": "execute_result"
    }
   ],
   "source": [
    "df_yellow.head()"
   ]
  },
  {
   "cell_type": "code",
   "execution_count": 22,
   "metadata": {
    "editable": true
   },
   "outputs": [
    {
     "data": {
      "text/plain": [
       "count    1.362441e+06\n",
       "mean     1.028915e+00\n",
       "std      5.479181e-01\n",
       "min      1.000000e+00\n",
       "25%      1.000000e+00\n",
       "50%      1.000000e+00\n",
       "75%      1.000000e+00\n",
       "max      9.900000e+01\n",
       "Name: RatecodeID, dtype: float64"
      ]
     },
     "execution_count": 22,
     "metadata": {},
     "output_type": "execute_result"
    }
   ],
   "source": [
    "df_yellow[\"RatecodeID\"].describe()"
   ]
  },
  {
   "cell_type": "code",
   "execution_count": null,
   "metadata": {
    "editable": true
   },
   "outputs": [],
   "source": [
    "# Check for null values, What should we replace them with?"
   ]
  },
  {
   "cell_type": "markdown",
   "metadata": {
    "editable": true
   },
   "source": [
    "### File 2: Green Taxi Trips - data/green_tripdata_2020-12.csv"
   ]
  },
  {
   "cell_type": "code",
   "execution_count": 2,
   "metadata": {
    "editable": true
   },
   "outputs": [],
   "source": [
    "green_taxi_trips = \"data/green_tripdata_2020-12.csv\""
   ]
  },
  {
   "cell_type": "code",
   "execution_count": 3,
   "metadata": {
    "editable": true
   },
   "outputs": [
    {
     "name": "stdout",
     "output_type": "stream",
     "text": [
      "VendorID,lpep_pickup_datetime,lpep_dropoff_datetime,store_and_fwd_flag,RatecodeID,PULocationID,DOLocationID,passenger_count,trip_distance,fare_amount,extra,mta_tax,tip_amount,tolls_amount,ehail_fee,improvement_surcharge,total_amount,payment_type,trip_type,congestion_surcharge\n",
      "2,2020-12-01 00:29:37,2020-12-01 00:32:51,N,1,75,75,1,.59,4.5,0.5,0.5,1.16,0,,0.3,6.96,1,1,0\n",
      "2,2020-12-01 00:41:46,2020-12-01 00:46:31,N,1,75,74,1,1.24,6,0.5,0.5,1.46,0,,0.3,8.76,1,1,0\n",
      "2,2020-12-01 00:05:46,2020-12-01 00:10:48,N,1,244,243,2,1.19,6,0.5,0.5,1.46,0,,0.3,8.76,1,1,0\n",
      "2,2020-11-30 23:59:17,2020-12-01 00:16:06,N,1,75,68,1,5.08,17,0.5,0.5,2,0,,0.3,23.05,1,1,2.75\n",
      "2,2020-12-01 00:57:03,2020-12-01 01:00:29,N,1,74,263,1,1.24,5.5,0.5,0.5,0,0,,0.3,9.55,2,1,2.75\n",
      "2,2020-12-01 00:05:38,2020-12-01 00:20:26,N,1,244,74,1,2.81,12.5,0.5,0.5,0,0,,0.3,13.8,2,1,0\n",
      "2,2020-12-01 00:21:19,2020-12-01 00:26:48,N,1,69,116,1,1.12,6,0.5,0.5,0,0,,0.3,7.3,2,1,0\n",
      "2,2020-12-01 00:33:46,2020-12-01 00:44:01,N,1,116,247,1,2.27,9.5,0.5,0.5,0,0,,0.3,10.8,2,1,0\n",
      "2,2020-12-01 00:05:28,2020-12-01 00:20:28,N,1,75,213,1,6.67,20,0.5,0.5,0,0,,0.3,21.3,2,1,0\n",
      "cat: write error: Broken pipe\n"
     ]
    }
   ],
   "source": [
    "!cat data/green_tripdata_2020-12.csv | head -n10"
   ]
  },
  {
   "cell_type": "code",
   "execution_count": 4,
   "metadata": {
    "editable": true
   },
   "outputs": [
    {
     "name": "stderr",
     "output_type": "stream",
     "text": [
      "/opt/conda/lib/python3.6/site-packages/IPython/core/interactiveshell.py:2785: DtypeWarning: Columns (3) have mixed types. Specify dtype option on import or set low_memory=False.\n",
      "  interactivity=interactivity, compiler=compiler, result=result)\n"
     ]
    }
   ],
   "source": [
    "# 20 columns\n",
    "headers = [\"VendorID\",\"lpep_pickup_datetime\",\"lpep_dropoff_datetime\",\"store_and_fwd_flag\",\"RatecodeID\",\"PULocationID\",\"DOLocationID\",\"passenger_count\",\n",
    "           \"trip_distance\",\"fare_amount\",\"extra\",\"mta_tax\",\"tip_amount\",\"tolls_amount\",\"ehail_fee\",\"improvement_surcharge\",\"total_amount\",\"payment_type\",\n",
    "           \"trip_type\",\"congestion_surcharge\"]\n",
    "\n",
    "\"\"\"\n",
    "2,\n",
    "2020-12-01 00:29:37,\n",
    "2020-12-01 00:32:51,\n",
    "N,\n",
    "1,\n",
    "75,\n",
    "75,\n",
    "1,\n",
    ".59,\n",
    "4.5,\n",
    "0.5,\n",
    "0.5,\n",
    "1.16,\n",
    "0,\n",
    ",\n",
    "0.3,\n",
    "6.96,\n",
    "1,\n",
    "1,\n",
    "0\n",
    "\"\"\"\n",
    "dtypes = {\"c1\": \"int\", \n",
    "          \"c2\": \"str\",\n",
    "          \"c3\": \"str\",\n",
    "          \"c4\": \"float\", \n",
    "          \"c5\": \"float\",\n",
    "          \"c6\": \"float\",\n",
    "          \"c7\": \"str\",\n",
    "          \"c8\":\"str\",\n",
    "          \"c9\":\"str\",\n",
    "          \"c10\":\"str\",\n",
    "          \"c11\":\"float\",\n",
    "          \"c12\":\"float\",\n",
    "          \"c13\":\"float\",\n",
    "          \"c14\":\"float\",\n",
    "          \"c15\":\"float\",\n",
    "          \"c16\":\"float\",\n",
    "          \"c17\":\"float\",\n",
    "          \"c18\":\"float\",\n",
    "          \"c19\": \"float\",\n",
    "          \"c20\": \"float\"}\n",
    "\n",
    "df_green = pd.read_csv(green_taxi_trips, sep=\",\", header=None, names=headers, dtype=dtypes, skiprows=1)"
   ]
  },
  {
   "cell_type": "code",
   "execution_count": 5,
   "metadata": {
    "editable": true
   },
   "outputs": [
    {
     "data": {
      "text/html": [
       "<div>\n",
       "<style scoped>\n",
       "    .dataframe tbody tr th:only-of-type {\n",
       "        vertical-align: middle;\n",
       "    }\n",
       "\n",
       "    .dataframe tbody tr th {\n",
       "        vertical-align: top;\n",
       "    }\n",
       "\n",
       "    .dataframe thead th {\n",
       "        text-align: right;\n",
       "    }\n",
       "</style>\n",
       "<table border=\"1\" class=\"dataframe\">\n",
       "  <thead>\n",
       "    <tr style=\"text-align: right;\">\n",
       "      <th></th>\n",
       "      <th>VendorID</th>\n",
       "      <th>lpep_pickup_datetime</th>\n",
       "      <th>lpep_dropoff_datetime</th>\n",
       "      <th>store_and_fwd_flag</th>\n",
       "      <th>RatecodeID</th>\n",
       "      <th>PULocationID</th>\n",
       "      <th>DOLocationID</th>\n",
       "      <th>passenger_count</th>\n",
       "      <th>trip_distance</th>\n",
       "      <th>fare_amount</th>\n",
       "      <th>extra</th>\n",
       "      <th>mta_tax</th>\n",
       "      <th>tip_amount</th>\n",
       "      <th>tolls_amount</th>\n",
       "      <th>ehail_fee</th>\n",
       "      <th>improvement_surcharge</th>\n",
       "      <th>total_amount</th>\n",
       "      <th>payment_type</th>\n",
       "      <th>trip_type</th>\n",
       "      <th>congestion_surcharge</th>\n",
       "    </tr>\n",
       "  </thead>\n",
       "  <tbody>\n",
       "    <tr>\n",
       "      <th>0</th>\n",
       "      <td>2.0</td>\n",
       "      <td>2020-12-01 00:29:37</td>\n",
       "      <td>2020-12-01 00:32:51</td>\n",
       "      <td>N</td>\n",
       "      <td>1.0</td>\n",
       "      <td>75</td>\n",
       "      <td>75</td>\n",
       "      <td>1.0</td>\n",
       "      <td>0.59</td>\n",
       "      <td>4.5</td>\n",
       "      <td>0.5</td>\n",
       "      <td>0.5</td>\n",
       "      <td>1.16</td>\n",
       "      <td>0.0</td>\n",
       "      <td>NaN</td>\n",
       "      <td>0.3</td>\n",
       "      <td>6.96</td>\n",
       "      <td>1.0</td>\n",
       "      <td>1.0</td>\n",
       "      <td>0.00</td>\n",
       "    </tr>\n",
       "    <tr>\n",
       "      <th>1</th>\n",
       "      <td>2.0</td>\n",
       "      <td>2020-12-01 00:41:46</td>\n",
       "      <td>2020-12-01 00:46:31</td>\n",
       "      <td>N</td>\n",
       "      <td>1.0</td>\n",
       "      <td>75</td>\n",
       "      <td>74</td>\n",
       "      <td>1.0</td>\n",
       "      <td>1.24</td>\n",
       "      <td>6.0</td>\n",
       "      <td>0.5</td>\n",
       "      <td>0.5</td>\n",
       "      <td>1.46</td>\n",
       "      <td>0.0</td>\n",
       "      <td>NaN</td>\n",
       "      <td>0.3</td>\n",
       "      <td>8.76</td>\n",
       "      <td>1.0</td>\n",
       "      <td>1.0</td>\n",
       "      <td>0.00</td>\n",
       "    </tr>\n",
       "    <tr>\n",
       "      <th>2</th>\n",
       "      <td>2.0</td>\n",
       "      <td>2020-12-01 00:05:46</td>\n",
       "      <td>2020-12-01 00:10:48</td>\n",
       "      <td>N</td>\n",
       "      <td>1.0</td>\n",
       "      <td>244</td>\n",
       "      <td>243</td>\n",
       "      <td>2.0</td>\n",
       "      <td>1.19</td>\n",
       "      <td>6.0</td>\n",
       "      <td>0.5</td>\n",
       "      <td>0.5</td>\n",
       "      <td>1.46</td>\n",
       "      <td>0.0</td>\n",
       "      <td>NaN</td>\n",
       "      <td>0.3</td>\n",
       "      <td>8.76</td>\n",
       "      <td>1.0</td>\n",
       "      <td>1.0</td>\n",
       "      <td>0.00</td>\n",
       "    </tr>\n",
       "    <tr>\n",
       "      <th>3</th>\n",
       "      <td>2.0</td>\n",
       "      <td>2020-11-30 23:59:17</td>\n",
       "      <td>2020-12-01 00:16:06</td>\n",
       "      <td>N</td>\n",
       "      <td>1.0</td>\n",
       "      <td>75</td>\n",
       "      <td>68</td>\n",
       "      <td>1.0</td>\n",
       "      <td>5.08</td>\n",
       "      <td>17.0</td>\n",
       "      <td>0.5</td>\n",
       "      <td>0.5</td>\n",
       "      <td>2.00</td>\n",
       "      <td>0.0</td>\n",
       "      <td>NaN</td>\n",
       "      <td>0.3</td>\n",
       "      <td>23.05</td>\n",
       "      <td>1.0</td>\n",
       "      <td>1.0</td>\n",
       "      <td>2.75</td>\n",
       "    </tr>\n",
       "    <tr>\n",
       "      <th>4</th>\n",
       "      <td>2.0</td>\n",
       "      <td>2020-12-01 00:57:03</td>\n",
       "      <td>2020-12-01 01:00:29</td>\n",
       "      <td>N</td>\n",
       "      <td>1.0</td>\n",
       "      <td>74</td>\n",
       "      <td>263</td>\n",
       "      <td>1.0</td>\n",
       "      <td>1.24</td>\n",
       "      <td>5.5</td>\n",
       "      <td>0.5</td>\n",
       "      <td>0.5</td>\n",
       "      <td>0.00</td>\n",
       "      <td>0.0</td>\n",
       "      <td>NaN</td>\n",
       "      <td>0.3</td>\n",
       "      <td>9.55</td>\n",
       "      <td>2.0</td>\n",
       "      <td>1.0</td>\n",
       "      <td>2.75</td>\n",
       "    </tr>\n",
       "  </tbody>\n",
       "</table>\n",
       "</div>"
      ],
      "text/plain": [
       "   VendorID lpep_pickup_datetime lpep_dropoff_datetime store_and_fwd_flag  \\\n",
       "0       2.0  2020-12-01 00:29:37   2020-12-01 00:32:51                  N   \n",
       "1       2.0  2020-12-01 00:41:46   2020-12-01 00:46:31                  N   \n",
       "2       2.0  2020-12-01 00:05:46   2020-12-01 00:10:48                  N   \n",
       "3       2.0  2020-11-30 23:59:17   2020-12-01 00:16:06                  N   \n",
       "4       2.0  2020-12-01 00:57:03   2020-12-01 01:00:29                  N   \n",
       "\n",
       "   RatecodeID  PULocationID  DOLocationID  passenger_count  trip_distance  \\\n",
       "0         1.0            75            75              1.0           0.59   \n",
       "1         1.0            75            74              1.0           1.24   \n",
       "2         1.0           244           243              2.0           1.19   \n",
       "3         1.0            75            68              1.0           5.08   \n",
       "4         1.0            74           263              1.0           1.24   \n",
       "\n",
       "   fare_amount  extra  mta_tax  tip_amount  tolls_amount  ehail_fee  \\\n",
       "0          4.5    0.5      0.5        1.16           0.0        NaN   \n",
       "1          6.0    0.5      0.5        1.46           0.0        NaN   \n",
       "2          6.0    0.5      0.5        1.46           0.0        NaN   \n",
       "3         17.0    0.5      0.5        2.00           0.0        NaN   \n",
       "4          5.5    0.5      0.5        0.00           0.0        NaN   \n",
       "\n",
       "   improvement_surcharge  total_amount  payment_type  trip_type  \\\n",
       "0                    0.3          6.96           1.0        1.0   \n",
       "1                    0.3          8.76           1.0        1.0   \n",
       "2                    0.3          8.76           1.0        1.0   \n",
       "3                    0.3         23.05           1.0        1.0   \n",
       "4                    0.3          9.55           2.0        1.0   \n",
       "\n",
       "   congestion_surcharge  \n",
       "0                  0.00  \n",
       "1                  0.00  \n",
       "2                  0.00  \n",
       "3                  2.75  \n",
       "4                  2.75  "
      ]
     },
     "execution_count": 5,
     "metadata": {},
     "output_type": "execute_result"
    }
   ],
   "source": [
    "df_green.head()"
   ]
  },
  {
   "cell_type": "markdown",
   "metadata": {
    "editable": true
   },
   "source": [
    "### File 3: For hire vehicles - data/fhv_tripdata_2020-12.csv"
   ]
  },
  {
   "cell_type": "code",
   "execution_count": 9,
   "metadata": {
    "editable": true
   },
   "outputs": [],
   "source": [
    "for_hire_vehicle_trips = \"data/fhv_tripdata_2020-12.csv\""
   ]
  },
  {
   "cell_type": "code",
   "execution_count": 6,
   "metadata": {
    "editable": true
   },
   "outputs": [
    {
     "name": "stdout",
     "output_type": "stream",
     "text": [
      "dispatching_base_num,pickup_datetime,dropoff_datetime,PULocationID,DOLocationID,SR_Flag,Affiliated_base_number\n",
      "B00009,2020-12-01 00:59:00,2020-12-01 01:19:00,,,,B00009\n",
      "B00021         ,2020-12-01 00:31:27,2020-12-01 00:39:21,56,173,,B00021         \n",
      "B00021         ,2020-12-01 00:38:01,2020-12-01 00:45:13,82,129,,B00021         \n",
      "B00021         ,2020-12-01 00:13:55,2020-12-01 00:24:01,56,56,,B00021         \n",
      "B00021         ,2020-12-01 00:46:03,2020-12-01 00:54:44,173,173,,B00021         \n",
      "B00037,2020-12-01 00:14:08,2020-12-01 00:19:34,,177,,B00037\n",
      "B00037,2020-12-01 00:38:02,2020-12-01 00:46:05,,188,,B00037\n",
      "B00037,2020-12-01 00:12:41,2020-12-01 00:16:58,,188,,B00037\n",
      "B00037,2020-12-01 00:51:39,2020-12-01 01:09:50,,39,,B00037\n",
      "cat: write error: Broken pipe\n"
     ]
    }
   ],
   "source": [
    "!cat data/fhv_tripdata_2020-12.csv | head -n10"
   ]
  },
  {
   "cell_type": "code",
   "execution_count": 12,
   "metadata": {
    "editable": true
   },
   "outputs": [],
   "source": [
    "\n",
    "header=[\"dispatching_base_num\",\n",
    "        \"pickup_datetime\",\n",
    "        \"dropoff_datetime\", \n",
    "        \"PULocationID\",\n",
    "        \"DOLocationID\",\n",
    "        \"SR_Flag\",\n",
    "        \"Affiliated_base_number\"]\n",
    "\n",
    "dtypes = {\n",
    "    \"c1\": \"str\",\n",
    "    \"c2\": \"str\",\n",
    "    \"c3\": \"str\",\n",
    "    \"c4\": \"str\",\n",
    "    \"c5\": \"str\",\n",
    "    \"c6\": \"str\",\n",
    "    \"c7\": \"str\"\n",
    "}\n",
    "\n",
    "\n",
    "\n",
    "df_fhv = pd.read_csv(for_hire_vehicle_trips, header=None, sep=\",\", dtype=dtypes, names=header, skiprows=1)"
   ]
  },
  {
   "cell_type": "code",
   "execution_count": 13,
   "metadata": {
    "editable": true
   },
   "outputs": [
    {
     "data": {
      "text/html": [
       "<div>\n",
       "<style scoped>\n",
       "    .dataframe tbody tr th:only-of-type {\n",
       "        vertical-align: middle;\n",
       "    }\n",
       "\n",
       "    .dataframe tbody tr th {\n",
       "        vertical-align: top;\n",
       "    }\n",
       "\n",
       "    .dataframe thead th {\n",
       "        text-align: right;\n",
       "    }\n",
       "</style>\n",
       "<table border=\"1\" class=\"dataframe\">\n",
       "  <thead>\n",
       "    <tr style=\"text-align: right;\">\n",
       "      <th></th>\n",
       "      <th>dispatching_base_num</th>\n",
       "      <th>pickup_datetime</th>\n",
       "      <th>dropoff_datetime</th>\n",
       "      <th>PULocationID</th>\n",
       "      <th>DOLocationID</th>\n",
       "      <th>SR_Flag</th>\n",
       "      <th>Affiliated_base_number</th>\n",
       "    </tr>\n",
       "  </thead>\n",
       "  <tbody>\n",
       "    <tr>\n",
       "      <th>0</th>\n",
       "      <td>B00009</td>\n",
       "      <td>2020-12-01 00:59:00</td>\n",
       "      <td>2020-12-01 01:19:00</td>\n",
       "      <td>NaN</td>\n",
       "      <td>NaN</td>\n",
       "      <td>NaN</td>\n",
       "      <td>B00009</td>\n",
       "    </tr>\n",
       "    <tr>\n",
       "      <th>1</th>\n",
       "      <td>B00021</td>\n",
       "      <td>2020-12-01 00:31:27</td>\n",
       "      <td>2020-12-01 00:39:21</td>\n",
       "      <td>56.0</td>\n",
       "      <td>173.0</td>\n",
       "      <td>NaN</td>\n",
       "      <td>B00021</td>\n",
       "    </tr>\n",
       "    <tr>\n",
       "      <th>2</th>\n",
       "      <td>B00021</td>\n",
       "      <td>2020-12-01 00:38:01</td>\n",
       "      <td>2020-12-01 00:45:13</td>\n",
       "      <td>82.0</td>\n",
       "      <td>129.0</td>\n",
       "      <td>NaN</td>\n",
       "      <td>B00021</td>\n",
       "    </tr>\n",
       "    <tr>\n",
       "      <th>3</th>\n",
       "      <td>B00021</td>\n",
       "      <td>2020-12-01 00:13:55</td>\n",
       "      <td>2020-12-01 00:24:01</td>\n",
       "      <td>56.0</td>\n",
       "      <td>56.0</td>\n",
       "      <td>NaN</td>\n",
       "      <td>B00021</td>\n",
       "    </tr>\n",
       "    <tr>\n",
       "      <th>4</th>\n",
       "      <td>B00021</td>\n",
       "      <td>2020-12-01 00:46:03</td>\n",
       "      <td>2020-12-01 00:54:44</td>\n",
       "      <td>173.0</td>\n",
       "      <td>173.0</td>\n",
       "      <td>NaN</td>\n",
       "      <td>B00021</td>\n",
       "    </tr>\n",
       "  </tbody>\n",
       "</table>\n",
       "</div>"
      ],
      "text/plain": [
       "  dispatching_base_num      pickup_datetime     dropoff_datetime  \\\n",
       "0               B00009  2020-12-01 00:59:00  2020-12-01 01:19:00   \n",
       "1      B00021           2020-12-01 00:31:27  2020-12-01 00:39:21   \n",
       "2      B00021           2020-12-01 00:38:01  2020-12-01 00:45:13   \n",
       "3      B00021           2020-12-01 00:13:55  2020-12-01 00:24:01   \n",
       "4      B00021           2020-12-01 00:46:03  2020-12-01 00:54:44   \n",
       "\n",
       "   PULocationID  DOLocationID  SR_Flag Affiliated_base_number  \n",
       "0           NaN           NaN      NaN                 B00009  \n",
       "1          56.0         173.0      NaN        B00021           \n",
       "2          82.0         129.0      NaN        B00021           \n",
       "3          56.0          56.0      NaN        B00021           \n",
       "4         173.0         173.0      NaN        B00021           "
      ]
     },
     "execution_count": 13,
     "metadata": {},
     "output_type": "execute_result"
    }
   ],
   "source": [
    "df_fhv.head()"
   ]
  },
  {
   "cell_type": "code",
   "execution_count": null,
   "metadata": {
    "editable": true
   },
   "outputs": [],
   "source": [
    "# Any trip that has a Null pickup or dropoff - exclude\n",
    "# Replace Nan with 0 for SR_Flag\n",
    "# Replace dispatching_base_num and Affiliated_base_number with surregete id - Dimension will be created"
   ]
  },
  {
   "cell_type": "markdown",
   "metadata": {
    "editable": true
   },
   "source": [
    "### File 4: High volume FHV - data/fhvhv_tripdata_2020-12.csv"
   ]
  },
  {
   "cell_type": "code",
   "execution_count": 11,
   "metadata": {
    "editable": true
   },
   "outputs": [],
   "source": [
    "for_hire_vehicle_trips_high_volume = \"data/fhvhv_tripdata_2020-12.csv\""
   ]
  },
  {
   "cell_type": "code",
   "execution_count": 14,
   "metadata": {
    "editable": true
   },
   "outputs": [
    {
     "name": "stdout",
     "output_type": "stream",
     "text": [
      "hvfhs_license_num,dispatching_base_num,pickup_datetime,dropoff_datetime,PULocationID,DOLocationID,SR_Flag\n",
      "HV0003,B02764,2020-12-01 00:13:22,2020-12-01 00:33:53,94,75,\n",
      "HV0003,B02764,2020-12-01 00:47:19,2020-12-01 00:57:01,75,164,\n",
      "HV0005,B02510,2020-12-01 00:17:14,2020-12-01 00:37:42,87,179,\n",
      "HV0003,B02883,2020-12-01 00:01:16,2020-12-01 00:20:26,80,92,\n",
      "HV0003,B02883,2020-12-01 00:32:03,2020-12-01 00:45:18,92,92,\n",
      "HV0005,B02510,2020-12-01 00:45:02,2020-12-01 01:06:08,78,41,\n",
      "HV0003,B02764,2020-12-01 00:28:22,2020-12-01 00:39:40,208,78,\n",
      "HV0003,B02617,2020-12-01 00:16:07,2020-12-01 00:21:12,203,219,\n",
      "HV0003,B02617,2020-12-01 00:37:16,2020-12-01 00:46:09,205,139,\n",
      "cat: write error: Broken pipe\n"
     ]
    }
   ],
   "source": [
    "!cat data/fhvhv_tripdata_2020-12.csv | head -n10"
   ]
  },
  {
   "cell_type": "code",
   "execution_count": 12,
   "metadata": {
    "editable": true
   },
   "outputs": [],
   "source": [
    "\n",
    "header=[\"hvfhs_license_num\",\n",
    "        \"dispatching_base_num\", \n",
    "        \"pickup_datetime\",\n",
    "        \"dropoff_datetime\",\n",
    "        \"PULocationID\",\n",
    "        \"DOLocationID\",\n",
    "        \"SR_Flag\"]\n",
    "\n",
    "dtypes = {\n",
    "    \"c1\": \"str\",\n",
    "    \"c2\": \"str\",\n",
    "    \"c3\": \"str\",\n",
    "    \"c4\": \"str\",\n",
    "    \"c5\": \"str\",\n",
    "    \"c6\": \"str\",\n",
    "    \"c7\": \"str\"\n",
    "}\n",
    "\n",
    "\n",
    "df_hvfhv = pd.read_csv(for_hire_vehicle_trips_high_volume, header=None, sep=\",\", dtype=dtypes, names=header, skiprows=1)"
   ]
  },
  {
   "cell_type": "code",
   "execution_count": 13,
   "metadata": {
    "editable": true
   },
   "outputs": [
    {
     "data": {
      "text/html": [
       "<div>\n",
       "<style scoped>\n",
       "    .dataframe tbody tr th:only-of-type {\n",
       "        vertical-align: middle;\n",
       "    }\n",
       "\n",
       "    .dataframe tbody tr th {\n",
       "        vertical-align: top;\n",
       "    }\n",
       "\n",
       "    .dataframe thead th {\n",
       "        text-align: right;\n",
       "    }\n",
       "</style>\n",
       "<table border=\"1\" class=\"dataframe\">\n",
       "  <thead>\n",
       "    <tr style=\"text-align: right;\">\n",
       "      <th></th>\n",
       "      <th>hvfhs_license_num</th>\n",
       "      <th>dispatching_base_num</th>\n",
       "      <th>pickup_datetime</th>\n",
       "      <th>dropoff_datetime</th>\n",
       "      <th>PULocationID</th>\n",
       "      <th>DOLocationID</th>\n",
       "      <th>SR_Flag</th>\n",
       "    </tr>\n",
       "  </thead>\n",
       "  <tbody>\n",
       "    <tr>\n",
       "      <th>0</th>\n",
       "      <td>HV0003</td>\n",
       "      <td>B02764</td>\n",
       "      <td>2020-12-01 00:13:22</td>\n",
       "      <td>2020-12-01 00:33:53</td>\n",
       "      <td>94</td>\n",
       "      <td>75</td>\n",
       "      <td>NaN</td>\n",
       "    </tr>\n",
       "    <tr>\n",
       "      <th>1</th>\n",
       "      <td>HV0003</td>\n",
       "      <td>B02764</td>\n",
       "      <td>2020-12-01 00:47:19</td>\n",
       "      <td>2020-12-01 00:57:01</td>\n",
       "      <td>75</td>\n",
       "      <td>164</td>\n",
       "      <td>NaN</td>\n",
       "    </tr>\n",
       "    <tr>\n",
       "      <th>2</th>\n",
       "      <td>HV0005</td>\n",
       "      <td>B02510</td>\n",
       "      <td>2020-12-01 00:17:14</td>\n",
       "      <td>2020-12-01 00:37:42</td>\n",
       "      <td>87</td>\n",
       "      <td>179</td>\n",
       "      <td>NaN</td>\n",
       "    </tr>\n",
       "    <tr>\n",
       "      <th>3</th>\n",
       "      <td>HV0003</td>\n",
       "      <td>B02883</td>\n",
       "      <td>2020-12-01 00:01:16</td>\n",
       "      <td>2020-12-01 00:20:26</td>\n",
       "      <td>80</td>\n",
       "      <td>92</td>\n",
       "      <td>NaN</td>\n",
       "    </tr>\n",
       "    <tr>\n",
       "      <th>4</th>\n",
       "      <td>HV0003</td>\n",
       "      <td>B02883</td>\n",
       "      <td>2020-12-01 00:32:03</td>\n",
       "      <td>2020-12-01 00:45:18</td>\n",
       "      <td>92</td>\n",
       "      <td>92</td>\n",
       "      <td>NaN</td>\n",
       "    </tr>\n",
       "  </tbody>\n",
       "</table>\n",
       "</div>"
      ],
      "text/plain": [
       "  hvfhs_license_num dispatching_base_num      pickup_datetime  \\\n",
       "0            HV0003               B02764  2020-12-01 00:13:22   \n",
       "1            HV0003               B02764  2020-12-01 00:47:19   \n",
       "2            HV0005               B02510  2020-12-01 00:17:14   \n",
       "3            HV0003               B02883  2020-12-01 00:01:16   \n",
       "4            HV0003               B02883  2020-12-01 00:32:03   \n",
       "\n",
       "      dropoff_datetime  PULocationID  DOLocationID  SR_Flag  \n",
       "0  2020-12-01 00:33:53            94            75      NaN  \n",
       "1  2020-12-01 00:57:01            75           164      NaN  \n",
       "2  2020-12-01 00:37:42            87           179      NaN  \n",
       "3  2020-12-01 00:20:26            80            92      NaN  \n",
       "4  2020-12-01 00:45:18            92            92      NaN  "
      ]
     },
     "execution_count": 13,
     "metadata": {},
     "output_type": "execute_result"
    }
   ],
   "source": [
    "df_hvfhv.head()"
   ]
  },
  {
   "cell_type": "markdown",
   "metadata": {
    "editable": true
   },
   "source": [
    "### File 5 - Read shapefile into python - data/taxi_zones.shp"
   ]
  },
  {
   "cell_type": "code",
   "execution_count": 2,
   "metadata": {
    "editable": true
   },
   "outputs": [],
   "source": [
    "taxi_zone = \"data/taxi_zones.shp\""
   ]
  },
  {
   "cell_type": "code",
   "execution_count": 3,
   "metadata": {
    "editable": true
   },
   "outputs": [],
   "source": [
    "df_geo = gpd.read_file(taxi_zone)\n",
    "#df_geo = df_geo.to_crs(epsg=4326)\n",
    "#df_geo = df_geo.to_crs()"
   ]
  },
  {
   "cell_type": "code",
   "execution_count": 4,
   "metadata": {
    "editable": true
   },
   "outputs": [],
   "source": [
    "# Convert to ETRS Lambert Azimuthal projection\n",
    "df_geo = df_geo.to_crs(epsg=3035)"
   ]
  },
  {
   "cell_type": "code",
   "execution_count": 5,
   "metadata": {
    "editable": true
   },
   "outputs": [
    {
     "data": {
      "text/html": [
       "<div>\n",
       "<style scoped>\n",
       "    .dataframe tbody tr th:only-of-type {\n",
       "        vertical-align: middle;\n",
       "    }\n",
       "\n",
       "    .dataframe tbody tr th {\n",
       "        vertical-align: top;\n",
       "    }\n",
       "\n",
       "    .dataframe thead th {\n",
       "        text-align: right;\n",
       "    }\n",
       "</style>\n",
       "<table border=\"1\" class=\"dataframe\">\n",
       "  <thead>\n",
       "    <tr style=\"text-align: right;\">\n",
       "      <th></th>\n",
       "      <th>OBJECTID</th>\n",
       "      <th>Shape_Leng</th>\n",
       "      <th>Shape_Area</th>\n",
       "      <th>zone</th>\n",
       "      <th>LocationID</th>\n",
       "      <th>borough</th>\n",
       "      <th>geometry</th>\n",
       "    </tr>\n",
       "  </thead>\n",
       "  <tbody>\n",
       "    <tr>\n",
       "      <th>0</th>\n",
       "      <td>1</td>\n",
       "      <td>0.116357</td>\n",
       "      <td>0.000782</td>\n",
       "      <td>Newark Airport</td>\n",
       "      <td>1</td>\n",
       "      <td>EWR</td>\n",
       "      <td>POLYGON ((-1134428.384 5669231.859, -1134419.4...</td>\n",
       "    </tr>\n",
       "    <tr>\n",
       "      <th>1</th>\n",
       "      <td>2</td>\n",
       "      <td>0.433470</td>\n",
       "      <td>0.004866</td>\n",
       "      <td>Jamaica Bay</td>\n",
       "      <td>2</td>\n",
       "      <td>Queens</td>\n",
       "      <td>MULTIPOLYGON (((-1131185.127 5636659.573, -113...</td>\n",
       "    </tr>\n",
       "    <tr>\n",
       "      <th>2</th>\n",
       "      <td>3</td>\n",
       "      <td>0.084341</td>\n",
       "      <td>0.000314</td>\n",
       "      <td>Allerton/Pelham Gardens</td>\n",
       "      <td>3</td>\n",
       "      <td>Bronx</td>\n",
       "      <td>POLYGON ((-1108957.611 5652186.105, -1108976.1...</td>\n",
       "    </tr>\n",
       "    <tr>\n",
       "      <th>3</th>\n",
       "      <td>4</td>\n",
       "      <td>0.043567</td>\n",
       "      <td>0.000112</td>\n",
       "      <td>Alphabet City</td>\n",
       "      <td>4</td>\n",
       "      <td>Manhattan</td>\n",
       "      <td>POLYGON ((-1126272.246 5653754.349, -1126273.3...</td>\n",
       "    </tr>\n",
       "    <tr>\n",
       "      <th>4</th>\n",
       "      <td>5</td>\n",
       "      <td>0.092146</td>\n",
       "      <td>0.000498</td>\n",
       "      <td>Arden Heights</td>\n",
       "      <td>5</td>\n",
       "      <td>Staten Island</td>\n",
       "      <td>POLYGON ((-1147214.236 5660728.016, -1147226.1...</td>\n",
       "    </tr>\n",
       "  </tbody>\n",
       "</table>\n",
       "</div>"
      ],
      "text/plain": [
       "   OBJECTID  Shape_Leng  Shape_Area                     zone  LocationID  \\\n",
       "0         1    0.116357    0.000782           Newark Airport           1   \n",
       "1         2    0.433470    0.004866              Jamaica Bay           2   \n",
       "2         3    0.084341    0.000314  Allerton/Pelham Gardens           3   \n",
       "3         4    0.043567    0.000112            Alphabet City           4   \n",
       "4         5    0.092146    0.000498            Arden Heights           5   \n",
       "\n",
       "         borough                                           geometry  \n",
       "0            EWR  POLYGON ((-1134428.384 5669231.859, -1134419.4...  \n",
       "1         Queens  MULTIPOLYGON (((-1131185.127 5636659.573, -113...  \n",
       "2          Bronx  POLYGON ((-1108957.611 5652186.105, -1108976.1...  \n",
       "3      Manhattan  POLYGON ((-1126272.246 5653754.349, -1126273.3...  \n",
       "4  Staten Island  POLYGON ((-1147214.236 5660728.016, -1147226.1...  "
      ]
     },
     "execution_count": 5,
     "metadata": {},
     "output_type": "execute_result"
    }
   ],
   "source": [
    "df_geo.head()"
   ]
  },
  {
   "cell_type": "code",
   "execution_count": 6,
   "metadata": {
    "editable": true
   },
   "outputs": [
    {
     "data": {
      "text/plain": [
       "<matplotlib.axes._subplots.AxesSubplot at 0x7f565ce092e8>"
      ]
     },
     "execution_count": 6,
     "metadata": {},
     "output_type": "execute_result"
    }
   ],
   "source": [
    "df_geo.plot()"
   ]
  },
  {
   "cell_type": "code",
   "execution_count": 7,
   "metadata": {
    "editable": true
   },
   "outputs": [],
   "source": [
    "#df_geo[\"x\"] = df_geo.geometry.centroid.x\n",
    "#df_geo[\"y\"] = df_geo.geometry.centroid.y\n",
    "\n",
    "df_geo = df_geo.to_crs(epsg=4326)\n",
    "#df_geo[\"y\"] = df_geo.geometry.centroid"
   ]
  },
  {
   "cell_type": "code",
   "execution_count": 8,
   "metadata": {
    "editable": true
   },
   "outputs": [
    {
     "data": {
      "text/html": [
       "<div>\n",
       "<style scoped>\n",
       "    .dataframe tbody tr th:only-of-type {\n",
       "        vertical-align: middle;\n",
       "    }\n",
       "\n",
       "    .dataframe tbody tr th {\n",
       "        vertical-align: top;\n",
       "    }\n",
       "\n",
       "    .dataframe thead th {\n",
       "        text-align: right;\n",
       "    }\n",
       "</style>\n",
       "<table border=\"1\" class=\"dataframe\">\n",
       "  <thead>\n",
       "    <tr style=\"text-align: right;\">\n",
       "      <th></th>\n",
       "      <th>OBJECTID</th>\n",
       "      <th>Shape_Leng</th>\n",
       "      <th>Shape_Area</th>\n",
       "      <th>zone</th>\n",
       "      <th>LocationID</th>\n",
       "      <th>borough</th>\n",
       "      <th>geometry</th>\n",
       "    </tr>\n",
       "  </thead>\n",
       "  <tbody>\n",
       "    <tr>\n",
       "      <th>0</th>\n",
       "      <td>1</td>\n",
       "      <td>0.116357</td>\n",
       "      <td>0.000782</td>\n",
       "      <td>Newark Airport</td>\n",
       "      <td>1</td>\n",
       "      <td>EWR</td>\n",
       "      <td>POLYGON ((-74.18445 40.69500, -74.18449 40.695...</td>\n",
       "    </tr>\n",
       "    <tr>\n",
       "      <th>1</th>\n",
       "      <td>2</td>\n",
       "      <td>0.433470</td>\n",
       "      <td>0.004866</td>\n",
       "      <td>Jamaica Bay</td>\n",
       "      <td>2</td>\n",
       "      <td>Queens</td>\n",
       "      <td>MULTIPOLYGON (((-73.82338 40.63899, -73.82277 ...</td>\n",
       "    </tr>\n",
       "    <tr>\n",
       "      <th>2</th>\n",
       "      <td>3</td>\n",
       "      <td>0.084341</td>\n",
       "      <td>0.000314</td>\n",
       "      <td>Allerton/Pelham Gardens</td>\n",
       "      <td>3</td>\n",
       "      <td>Bronx</td>\n",
       "      <td>POLYGON ((-73.84793 40.87134, -73.84725 40.870...</td>\n",
       "    </tr>\n",
       "    <tr>\n",
       "      <th>3</th>\n",
       "      <td>4</td>\n",
       "      <td>0.043567</td>\n",
       "      <td>0.000112</td>\n",
       "      <td>Alphabet City</td>\n",
       "      <td>4</td>\n",
       "      <td>Manhattan</td>\n",
       "      <td>POLYGON ((-73.97177 40.72582, -73.97179 40.725...</td>\n",
       "    </tr>\n",
       "    <tr>\n",
       "      <th>4</th>\n",
       "      <td>5</td>\n",
       "      <td>0.092146</td>\n",
       "      <td>0.000498</td>\n",
       "      <td>Arden Heights</td>\n",
       "      <td>5</td>\n",
       "      <td>Staten Island</td>\n",
       "      <td>POLYGON ((-74.17422 40.56257, -74.17349 40.562...</td>\n",
       "    </tr>\n",
       "  </tbody>\n",
       "</table>\n",
       "</div>"
      ],
      "text/plain": [
       "   OBJECTID  Shape_Leng  Shape_Area                     zone  LocationID  \\\n",
       "0         1    0.116357    0.000782           Newark Airport           1   \n",
       "1         2    0.433470    0.004866              Jamaica Bay           2   \n",
       "2         3    0.084341    0.000314  Allerton/Pelham Gardens           3   \n",
       "3         4    0.043567    0.000112            Alphabet City           4   \n",
       "4         5    0.092146    0.000498            Arden Heights           5   \n",
       "\n",
       "         borough                                           geometry  \n",
       "0            EWR  POLYGON ((-74.18445 40.69500, -74.18449 40.695...  \n",
       "1         Queens  MULTIPOLYGON (((-73.82338 40.63899, -73.82277 ...  \n",
       "2          Bronx  POLYGON ((-73.84793 40.87134, -73.84725 40.870...  \n",
       "3      Manhattan  POLYGON ((-73.97177 40.72582, -73.97179 40.725...  \n",
       "4  Staten Island  POLYGON ((-74.17422 40.56257, -74.17349 40.562...  "
      ]
     },
     "execution_count": 8,
     "metadata": {},
     "output_type": "execute_result"
    }
   ],
   "source": [
    "df_geo.head()"
   ]
  },
  {
   "cell_type": "code",
   "execution_count": 9,
   "metadata": {
    "editable": true
   },
   "outputs": [
    {
     "name": "stderr",
     "output_type": "stream",
     "text": [
      "/opt/conda/lib/python3.6/site-packages/ipykernel_launcher.py:3: UserWarning: Geometry is in a geographic CRS. Results from 'centroid' are likely incorrect. Use 'GeoSeries.to_crs()' to re-project geometries to a projected CRS before this operation.\n",
      "\n",
      "  This is separate from the ipykernel package so we can avoid doing imports until\n",
      "/opt/conda/lib/python3.6/site-packages/ipykernel_launcher.py:4: UserWarning: Geometry is in a geographic CRS. Results from 'centroid' are likely incorrect. Use 'GeoSeries.to_crs()' to re-project geometries to a projected CRS before this operation.\n",
      "\n",
      "  after removing the cwd from sys.path.\n"
     ]
    }
   ],
   "source": [
    "#df_geo[\"x\"] = df_geo[\"x\"].apply(lambda x: '%.5f' % x)\n",
    "#df_geo[\"y\"] = df_geo[\"y\"].apply(lambda x: '%.5f' % x)\n",
    "df_geo[\"y\"] = df_geo.geometry.centroid.x\n",
    "df_geo[\"x\"] = df_geo.geometry.centroid.y"
   ]
  },
  {
   "cell_type": "code",
   "execution_count": 10,
   "metadata": {
    "editable": true
   },
   "outputs": [
    {
     "data": {
      "text/html": [
       "<div>\n",
       "<style scoped>\n",
       "    .dataframe tbody tr th:only-of-type {\n",
       "        vertical-align: middle;\n",
       "    }\n",
       "\n",
       "    .dataframe tbody tr th {\n",
       "        vertical-align: top;\n",
       "    }\n",
       "\n",
       "    .dataframe thead th {\n",
       "        text-align: right;\n",
       "    }\n",
       "</style>\n",
       "<table border=\"1\" class=\"dataframe\">\n",
       "  <thead>\n",
       "    <tr style=\"text-align: right;\">\n",
       "      <th></th>\n",
       "      <th>OBJECTID</th>\n",
       "      <th>Shape_Leng</th>\n",
       "      <th>Shape_Area</th>\n",
       "      <th>zone</th>\n",
       "      <th>LocationID</th>\n",
       "      <th>borough</th>\n",
       "      <th>geometry</th>\n",
       "      <th>y</th>\n",
       "      <th>x</th>\n",
       "    </tr>\n",
       "  </thead>\n",
       "  <tbody>\n",
       "    <tr>\n",
       "      <th>0</th>\n",
       "      <td>1</td>\n",
       "      <td>0.116357</td>\n",
       "      <td>0.000782</td>\n",
       "      <td>Newark Airport</td>\n",
       "      <td>1</td>\n",
       "      <td>EWR</td>\n",
       "      <td>POLYGON ((-74.18445 40.69500, -74.18449 40.695...</td>\n",
       "      <td>-74.174000</td>\n",
       "      <td>40.691831</td>\n",
       "    </tr>\n",
       "    <tr>\n",
       "      <th>1</th>\n",
       "      <td>2</td>\n",
       "      <td>0.433470</td>\n",
       "      <td>0.004866</td>\n",
       "      <td>Jamaica Bay</td>\n",
       "      <td>2</td>\n",
       "      <td>Queens</td>\n",
       "      <td>MULTIPOLYGON (((-73.82338 40.63899, -73.82277 ...</td>\n",
       "      <td>-73.831299</td>\n",
       "      <td>40.616745</td>\n",
       "    </tr>\n",
       "    <tr>\n",
       "      <th>2</th>\n",
       "      <td>3</td>\n",
       "      <td>0.084341</td>\n",
       "      <td>0.000314</td>\n",
       "      <td>Allerton/Pelham Gardens</td>\n",
       "      <td>3</td>\n",
       "      <td>Bronx</td>\n",
       "      <td>POLYGON ((-73.84793 40.87134, -73.84725 40.870...</td>\n",
       "      <td>-73.847422</td>\n",
       "      <td>40.864474</td>\n",
       "    </tr>\n",
       "    <tr>\n",
       "      <th>3</th>\n",
       "      <td>4</td>\n",
       "      <td>0.043567</td>\n",
       "      <td>0.000112</td>\n",
       "      <td>Alphabet City</td>\n",
       "      <td>4</td>\n",
       "      <td>Manhattan</td>\n",
       "      <td>POLYGON ((-73.97177 40.72582, -73.97179 40.725...</td>\n",
       "      <td>-73.976968</td>\n",
       "      <td>40.723752</td>\n",
       "    </tr>\n",
       "    <tr>\n",
       "      <th>4</th>\n",
       "      <td>5</td>\n",
       "      <td>0.092146</td>\n",
       "      <td>0.000498</td>\n",
       "      <td>Arden Heights</td>\n",
       "      <td>5</td>\n",
       "      <td>Staten Island</td>\n",
       "      <td>POLYGON ((-74.17422 40.56257, -74.17349 40.562...</td>\n",
       "      <td>-74.188484</td>\n",
       "      <td>40.552659</td>\n",
       "    </tr>\n",
       "  </tbody>\n",
       "</table>\n",
       "</div>"
      ],
      "text/plain": [
       "   OBJECTID  Shape_Leng  Shape_Area                     zone  LocationID  \\\n",
       "0         1    0.116357    0.000782           Newark Airport           1   \n",
       "1         2    0.433470    0.004866              Jamaica Bay           2   \n",
       "2         3    0.084341    0.000314  Allerton/Pelham Gardens           3   \n",
       "3         4    0.043567    0.000112            Alphabet City           4   \n",
       "4         5    0.092146    0.000498            Arden Heights           5   \n",
       "\n",
       "         borough                                           geometry  \\\n",
       "0            EWR  POLYGON ((-74.18445 40.69500, -74.18449 40.695...   \n",
       "1         Queens  MULTIPOLYGON (((-73.82338 40.63899, -73.82277 ...   \n",
       "2          Bronx  POLYGON ((-73.84793 40.87134, -73.84725 40.870...   \n",
       "3      Manhattan  POLYGON ((-73.97177 40.72582, -73.97179 40.725...   \n",
       "4  Staten Island  POLYGON ((-74.17422 40.56257, -74.17349 40.562...   \n",
       "\n",
       "           y          x  \n",
       "0 -74.174000  40.691831  \n",
       "1 -73.831299  40.616745  \n",
       "2 -73.847422  40.864474  \n",
       "3 -73.976968  40.723752  \n",
       "4 -74.188484  40.552659  "
      ]
     },
     "execution_count": 10,
     "metadata": {},
     "output_type": "execute_result"
    }
   ],
   "source": [
    "df_geo.head()"
   ]
  },
  {
   "cell_type": "code",
   "execution_count": null,
   "metadata": {
    "editable": true
   },
   "outputs": [],
   "source": []
  },
  {
   "cell_type": "code",
   "execution_count": 22,
   "metadata": {
    "editable": true
   },
   "outputs": [
    {
     "data": {
      "image/png": "[encoded data removed]",
      "text/plain": [
       "<matplotlib.figure.Figure at 0x7f76b3e503c8>"
      ]
     },
     "metadata": {
      "needs_background": "light"
     },
     "output_type": "display_data"
    }
   ],
   "source": [
    "import matplotlib.pyplot as plt\n",
    "df_geo.plot(\"Shape_Area\", legend=True)\n",
    "plt.savefig(\"images/NYC_Zones.jpg\")"
   ]
  },
  {
   "cell_type": "code",
   "execution_count": null,
   "metadata": {
    "editable": true
   },
   "outputs": [],
   "source": [
    "# Plot a single point\n",
    "df={'Type':[\"PickUp\", \"DropOff\"],\n",
    "   'latitude':[],\n",
    "   'longitude':[]\n",
    "   }\n",
    "\n",
    "point_df = gpd.GeoDataFrame(df, geometry=gpd.points_from_xy(df.Longitude, df.Latitude))"
   ]
  },
  {
   "cell_type": "markdown",
   "metadata": {
    "editable": true
   },
   "source": [
    "### Join hvfhv with the shape file geo pandas data\n",
    "\n",
    "### How fairs are calculated\n",
    "\n",
    "1. Booking fee \n",
    "\n",
    "2. minimum fair\n",
    "\n",
    "3. rate based on distance and time (0.25 X time) plus (0.96 X miles)"
   ]
  },
  {
   "cell_type": "code",
   "execution_count": 14,
   "metadata": {
    "editable": true
   },
   "outputs": [],
   "source": [
    "df_hvfhv_top_ten = df_hvfhv.head()"
   ]
  },
  {
   "cell_type": "code",
   "execution_count": 15,
   "metadata": {
    "editable": true
   },
   "outputs": [
    {
     "data": {
      "text/html": [
       "<div>\n",
       "<style scoped>\n",
       "    .dataframe tbody tr th:only-of-type {\n",
       "        vertical-align: middle;\n",
       "    }\n",
       "\n",
       "    .dataframe tbody tr th {\n",
       "        vertical-align: top;\n",
       "    }\n",
       "\n",
       "    .dataframe thead th {\n",
       "        text-align: right;\n",
       "    }\n",
       "</style>\n",
       "<table border=\"1\" class=\"dataframe\">\n",
       "  <thead>\n",
       "    <tr style=\"text-align: right;\">\n",
       "      <th></th>\n",
       "      <th>hvfhs_license_num</th>\n",
       "      <th>dispatching_base_num</th>\n",
       "      <th>pickup_datetime</th>\n",
       "      <th>dropoff_datetime</th>\n",
       "      <th>PULocationID</th>\n",
       "      <th>DOLocationID</th>\n",
       "      <th>SR_Flag</th>\n",
       "    </tr>\n",
       "  </thead>\n",
       "  <tbody>\n",
       "    <tr>\n",
       "      <th>0</th>\n",
       "      <td>HV0003</td>\n",
       "      <td>B02764</td>\n",
       "      <td>2020-12-01 00:13:22</td>\n",
       "      <td>2020-12-01 00:33:53</td>\n",
       "      <td>94</td>\n",
       "      <td>75</td>\n",
       "      <td>NaN</td>\n",
       "    </tr>\n",
       "    <tr>\n",
       "      <th>1</th>\n",
       "      <td>HV0003</td>\n",
       "      <td>B02764</td>\n",
       "      <td>2020-12-01 00:47:19</td>\n",
       "      <td>2020-12-01 00:57:01</td>\n",
       "      <td>75</td>\n",
       "      <td>164</td>\n",
       "      <td>NaN</td>\n",
       "    </tr>\n",
       "    <tr>\n",
       "      <th>2</th>\n",
       "      <td>HV0005</td>\n",
       "      <td>B02510</td>\n",
       "      <td>2020-12-01 00:17:14</td>\n",
       "      <td>2020-12-01 00:37:42</td>\n",
       "      <td>87</td>\n",
       "      <td>179</td>\n",
       "      <td>NaN</td>\n",
       "    </tr>\n",
       "    <tr>\n",
       "      <th>3</th>\n",
       "      <td>HV0003</td>\n",
       "      <td>B02883</td>\n",
       "      <td>2020-12-01 00:01:16</td>\n",
       "      <td>2020-12-01 00:20:26</td>\n",
       "      <td>80</td>\n",
       "      <td>92</td>\n",
       "      <td>NaN</td>\n",
       "    </tr>\n",
       "    <tr>\n",
       "      <th>4</th>\n",
       "      <td>HV0003</td>\n",
       "      <td>B02883</td>\n",
       "      <td>2020-12-01 00:32:03</td>\n",
       "      <td>2020-12-01 00:45:18</td>\n",
       "      <td>92</td>\n",
       "      <td>92</td>\n",
       "      <td>NaN</td>\n",
       "    </tr>\n",
       "  </tbody>\n",
       "</table>\n",
       "</div>"
      ],
      "text/plain": [
       "  hvfhs_license_num dispatching_base_num      pickup_datetime  \\\n",
       "0            HV0003               B02764  2020-12-01 00:13:22   \n",
       "1            HV0003               B02764  2020-12-01 00:47:19   \n",
       "2            HV0005               B02510  2020-12-01 00:17:14   \n",
       "3            HV0003               B02883  2020-12-01 00:01:16   \n",
       "4            HV0003               B02883  2020-12-01 00:32:03   \n",
       "\n",
       "      dropoff_datetime  PULocationID  DOLocationID  SR_Flag  \n",
       "0  2020-12-01 00:33:53            94            75      NaN  \n",
       "1  2020-12-01 00:57:01            75           164      NaN  \n",
       "2  2020-12-01 00:37:42            87           179      NaN  \n",
       "3  2020-12-01 00:20:26            80            92      NaN  \n",
       "4  2020-12-01 00:45:18            92            92      NaN  "
      ]
     },
     "execution_count": 15,
     "metadata": {},
     "output_type": "execute_result"
    }
   ],
   "source": [
    "df_hvfhv_top_ten"
   ]
  },
  {
   "cell_type": "code",
   "execution_count": 20,
   "metadata": {
    "editable": true
   },
   "outputs": [],
   "source": [
    "df_geo_pickup = df_geo.rename(columns={\"LocationID\":\"PULocationID\", \"x\":\"x_pickup\", \"y\":\"y_pickup\", \"borough\":\"borough_pickup\", \"zone\":\"zone_pickup\"})\n",
    "df_geo_dropoff = df_geo.rename(columns={\"LocationID\":\"DOLocationID\", \"x\":\"x_dropoff\", \"y\":\"y_dropoff\", \"borough\":\"borough_dropoff\", \"zone\":\"zone_dropoff\"})"
   ]
  },
  {
   "cell_type": "code",
   "execution_count": 23,
   "metadata": {
    "editable": true
   },
   "outputs": [],
   "source": [
    "df_hvfhv_combined = df_hvfhv_top_ten.merge(df_geo_pickup[[\"PULocationID\",\"x_pickup\",\"y_pickup\", \"borough_pickup\", \"zone_pickup\"]], left_on='PULocationID', right_on='PULocationID', how='inner').merge(df_geo_dropoff[[\"DOLocationID\", \"x_dropoff\", \"y_dropoff\", \"borough_dropoff\", \"zone_dropoff\"]], left_on='DOLocationID', right_on='DOLocationID', how='inner')"
   ]
  },
  {
   "cell_type": "code",
   "execution_count": 24,
   "metadata": {
    "editable": true
   },
   "outputs": [
    {
     "data": {
      "text/html": [
       "<div>\n",
       "<style scoped>\n",
       "    .dataframe tbody tr th:only-of-type {\n",
       "        vertical-align: middle;\n",
       "    }\n",
       "\n",
       "    .dataframe tbody tr th {\n",
       "        vertical-align: top;\n",
       "    }\n",
       "\n",
       "    .dataframe thead th {\n",
       "        text-align: right;\n",
       "    }\n",
       "</style>\n",
       "<table border=\"1\" class=\"dataframe\">\n",
       "  <thead>\n",
       "    <tr style=\"text-align: right;\">\n",
       "      <th></th>\n",
       "      <th>hvfhs_license_num</th>\n",
       "      <th>dispatching_base_num</th>\n",
       "      <th>pickup_datetime</th>\n",
       "      <th>dropoff_datetime</th>\n",
       "      <th>PULocationID</th>\n",
       "      <th>DOLocationID</th>\n",
       "      <th>SR_Flag</th>\n",
       "      <th>x_pickup</th>\n",
       "      <th>y_pickup</th>\n",
       "      <th>borough_pickup</th>\n",
       "      <th>zone_pickup</th>\n",
       "      <th>x_dropoff</th>\n",
       "      <th>y_dropoff</th>\n",
       "      <th>borough_dropoff</th>\n",
       "      <th>zone_dropoff</th>\n",
       "    </tr>\n",
       "  </thead>\n",
       "  <tbody>\n",
       "    <tr>\n",
       "      <th>0</th>\n",
       "      <td>HV0003</td>\n",
       "      <td>B02764</td>\n",
       "      <td>2020-12-01 00:13:22</td>\n",
       "      <td>2020-12-01 00:33:53</td>\n",
       "      <td>94</td>\n",
       "      <td>75</td>\n",
       "      <td>NaN</td>\n",
       "      <td>40.858155</td>\n",
       "      <td>-73.899536</td>\n",
       "      <td>Bronx</td>\n",
       "      <td>Fordham South</td>\n",
       "      <td>40.790011</td>\n",
       "      <td>-73.945750</td>\n",
       "      <td>Manhattan</td>\n",
       "      <td>East Harlem South</td>\n",
       "    </tr>\n",
       "    <tr>\n",
       "      <th>1</th>\n",
       "      <td>HV0003</td>\n",
       "      <td>B02764</td>\n",
       "      <td>2020-12-01 00:47:19</td>\n",
       "      <td>2020-12-01 00:57:01</td>\n",
       "      <td>75</td>\n",
       "      <td>164</td>\n",
       "      <td>NaN</td>\n",
       "      <td>40.790011</td>\n",
       "      <td>-73.945750</td>\n",
       "      <td>Manhattan</td>\n",
       "      <td>East Harlem South</td>\n",
       "      <td>40.748575</td>\n",
       "      <td>-73.985156</td>\n",
       "      <td>Manhattan</td>\n",
       "      <td>Midtown South</td>\n",
       "    </tr>\n",
       "    <tr>\n",
       "      <th>2</th>\n",
       "      <td>HV0005</td>\n",
       "      <td>B02510</td>\n",
       "      <td>2020-12-01 00:17:14</td>\n",
       "      <td>2020-12-01 00:37:42</td>\n",
       "      <td>87</td>\n",
       "      <td>179</td>\n",
       "      <td>NaN</td>\n",
       "      <td>40.706808</td>\n",
       "      <td>-74.007496</td>\n",
       "      <td>Manhattan</td>\n",
       "      <td>Financial District North</td>\n",
       "      <td>40.771570</td>\n",
       "      <td>-73.928333</td>\n",
       "      <td>Queens</td>\n",
       "      <td>Old Astoria</td>\n",
       "    </tr>\n",
       "    <tr>\n",
       "      <th>3</th>\n",
       "      <td>HV0003</td>\n",
       "      <td>B02883</td>\n",
       "      <td>2020-12-01 00:01:16</td>\n",
       "      <td>2020-12-01 00:20:26</td>\n",
       "      <td>80</td>\n",
       "      <td>92</td>\n",
       "      <td>NaN</td>\n",
       "      <td>40.715370</td>\n",
       "      <td>-73.936793</td>\n",
       "      <td>Brooklyn</td>\n",
       "      <td>East Williamsburg</td>\n",
       "      <td>40.761102</td>\n",
       "      <td>-73.828859</td>\n",
       "      <td>Queens</td>\n",
       "      <td>Flushing</td>\n",
       "    </tr>\n",
       "    <tr>\n",
       "      <th>4</th>\n",
       "      <td>HV0003</td>\n",
       "      <td>B02883</td>\n",
       "      <td>2020-12-01 00:32:03</td>\n",
       "      <td>2020-12-01 00:45:18</td>\n",
       "      <td>92</td>\n",
       "      <td>92</td>\n",
       "      <td>NaN</td>\n",
       "      <td>40.761102</td>\n",
       "      <td>-73.828859</td>\n",
       "      <td>Queens</td>\n",
       "      <td>Flushing</td>\n",
       "      <td>40.761102</td>\n",
       "      <td>-73.828859</td>\n",
       "      <td>Queens</td>\n",
       "      <td>Flushing</td>\n",
       "    </tr>\n",
       "  </tbody>\n",
       "</table>\n",
       "</div>"
      ],
      "text/plain": [
       "  hvfhs_license_num dispatching_base_num      pickup_datetime  \\\n",
       "0            HV0003               B02764  2020-12-01 00:13:22   \n",
       "1            HV0003               B02764  2020-12-01 00:47:19   \n",
       "2            HV0005               B02510  2020-12-01 00:17:14   \n",
       "3            HV0003               B02883  2020-12-01 00:01:16   \n",
       "4            HV0003               B02883  2020-12-01 00:32:03   \n",
       "\n",
       "      dropoff_datetime  PULocationID  DOLocationID  SR_Flag   x_pickup  \\\n",
       "0  2020-12-01 00:33:53            94            75      NaN  40.858155   \n",
       "1  2020-12-01 00:57:01            75           164      NaN  40.790011   \n",
       "2  2020-12-01 00:37:42            87           179      NaN  40.706808   \n",
       "3  2020-12-01 00:20:26            80            92      NaN  40.715370   \n",
       "4  2020-12-01 00:45:18            92            92      NaN  40.761102   \n",
       "\n",
       "    y_pickup borough_pickup               zone_pickup  x_dropoff  y_dropoff  \\\n",
       "0 -73.899536          Bronx             Fordham South  40.790011 -73.945750   \n",
       "1 -73.945750      Manhattan         East Harlem South  40.748575 -73.985156   \n",
       "2 -74.007496      Manhattan  Financial District North  40.771570 -73.928333   \n",
       "3 -73.936793       Brooklyn         East Williamsburg  40.761102 -73.828859   \n",
       "4 -73.828859         Queens                  Flushing  40.761102 -73.828859   \n",
       "\n",
       "  borough_dropoff       zone_dropoff  \n",
       "0       Manhattan  East Harlem South  \n",
       "1       Manhattan      Midtown South  \n",
       "2          Queens        Old Astoria  \n",
       "3          Queens           Flushing  \n",
       "4          Queens           Flushing  "
      ]
     },
     "execution_count": 24,
     "metadata": {},
     "output_type": "execute_result"
    }
   ],
   "source": [
    "df_hvfhv_combined.head()"
   ]
  },
  {
   "cell_type": "code",
   "execution_count": 47,
   "metadata": {
    "editable": true
   },
   "outputs": [],
   "source": [
    "import math\n",
    "from datetime import datetime\n",
    "# Calculate Haversine Formula\n",
    "# x is latitude\n",
    "# y is longitude\n",
    "\n",
    "def haversine(x_pickup, y_pickup, x_dropoff, y_dropoff):\n",
    "    \n",
    "    R = 3963.0 #radius of earth in miles\n",
    "    \n",
    "    lat1 = math.radians(x_pickup)\n",
    "    lon1 = math.radians(y_pickup)\n",
    "    lat2 = math.radians(x_dropoff)\n",
    "    lon2 = math.radians(y_dropoff)\n",
    "    \n",
    "    dlon = lon2 - lon1\n",
    "    dlat = lat2 - lat1\n",
    "    \n",
    "    a = math.sin(dlat / 2)**2 + math.cos(lat1) * math.cos(lat2) * math.sin(dlon / 2)**2\n",
    "    \n",
    "    c = 2 * math.atan2(math.sqrt(a), math.sqrt(1 - a))\n",
    "    \n",
    "    distance = R * c\n",
    "    \n",
    "    return distance\n",
    "\n",
    "\n",
    "def calculate_duration(start_datetime, end_datetime):\n",
    "    \n",
    "    start1 = datetime.strptime(start_datetime, \"%Y-%m-%d %H:%M:%S\")\n",
    "    end1 = datetime.strptime(end_datetime, \"%Y-%m-%d %H:%M:%S\")\n",
    "    \n",
    "    delta = end1 - start1\n",
    "\n",
    "    journey_time = delta.seconds / 60\n",
    "    return journey_time\n",
    "\n",
    "\n",
    "def estimate_fair(distance, duration):\n",
    "    \n",
    "    BOOKING_FEE = 2.35\n",
    "    MIN_FAIR = 7.72\n",
    "    PER_MIN_COST = 0.25\n",
    "    PER_MILE_COST = 0.96\n",
    "    \n",
    "    # Duration\n",
    "    time_cost = duration * PER_MIN_COST\n",
    "    distance_cost = distance * PER_MILE_COST\n",
    "    \n",
    "    return (time_cost + distance_cost + MIN_FAIR + BOOKING_FEE)\n",
    "    \n"
   ]
  },
  {
   "cell_type": "code",
   "execution_count": 34,
   "metadata": {
    "editable": true
   },
   "outputs": [],
   "source": [
    "df_hvfhv_combined[\"distance_in_miles\"] = df_hvfhv_combined.apply(lambda row: haversine(row['x_pickup'], row['y_pickup'], row['x_dropoff'], row['y_dropoff']), axis=1)"
   ]
  },
  {
   "cell_type": "code",
   "execution_count": 35,
   "metadata": {
    "editable": true
   },
   "outputs": [
    {
     "data": {
      "text/html": [
       "<div>\n",
       "<style scoped>\n",
       "    .dataframe tbody tr th:only-of-type {\n",
       "        vertical-align: middle;\n",
       "    }\n",
       "\n",
       "    .dataframe tbody tr th {\n",
       "        vertical-align: top;\n",
       "    }\n",
       "\n",
       "    .dataframe thead th {\n",
       "        text-align: right;\n",
       "    }\n",
       "</style>\n",
       "<table border=\"1\" class=\"dataframe\">\n",
       "  <thead>\n",
       "    <tr style=\"text-align: right;\">\n",
       "      <th></th>\n",
       "      <th>hvfhs_license_num</th>\n",
       "      <th>dispatching_base_num</th>\n",
       "      <th>pickup_datetime</th>\n",
       "      <th>dropoff_datetime</th>\n",
       "      <th>PULocationID</th>\n",
       "      <th>DOLocationID</th>\n",
       "      <th>SR_Flag</th>\n",
       "      <th>x_pickup</th>\n",
       "      <th>y_pickup</th>\n",
       "      <th>borough_pickup</th>\n",
       "      <th>zone_pickup</th>\n",
       "      <th>x_dropoff</th>\n",
       "      <th>y_dropoff</th>\n",
       "      <th>borough_dropoff</th>\n",
       "      <th>zone_dropoff</th>\n",
       "      <th>distance_in_miles</th>\n",
       "    </tr>\n",
       "  </thead>\n",
       "  <tbody>\n",
       "    <tr>\n",
       "      <th>0</th>\n",
       "      <td>HV0003</td>\n",
       "      <td>B02764</td>\n",
       "      <td>2020-12-01 00:13:22</td>\n",
       "      <td>2020-12-01 00:33:53</td>\n",
       "      <td>94</td>\n",
       "      <td>75</td>\n",
       "      <td>NaN</td>\n",
       "      <td>40.858155</td>\n",
       "      <td>-73.899536</td>\n",
       "      <td>Bronx</td>\n",
       "      <td>Fordham South</td>\n",
       "      <td>40.790011</td>\n",
       "      <td>-73.945750</td>\n",
       "      <td>Manhattan</td>\n",
       "      <td>East Harlem South</td>\n",
       "      <td>5.297816</td>\n",
       "    </tr>\n",
       "    <tr>\n",
       "      <th>1</th>\n",
       "      <td>HV0003</td>\n",
       "      <td>B02764</td>\n",
       "      <td>2020-12-01 00:47:19</td>\n",
       "      <td>2020-12-01 00:57:01</td>\n",
       "      <td>75</td>\n",
       "      <td>164</td>\n",
       "      <td>NaN</td>\n",
       "      <td>40.790011</td>\n",
       "      <td>-73.945750</td>\n",
       "      <td>Manhattan</td>\n",
       "      <td>East Harlem South</td>\n",
       "      <td>40.748575</td>\n",
       "      <td>-73.985156</td>\n",
       "      <td>Manhattan</td>\n",
       "      <td>Midtown South</td>\n",
       "      <td>3.532023</td>\n",
       "    </tr>\n",
       "    <tr>\n",
       "      <th>2</th>\n",
       "      <td>HV0005</td>\n",
       "      <td>B02510</td>\n",
       "      <td>2020-12-01 00:17:14</td>\n",
       "      <td>2020-12-01 00:37:42</td>\n",
       "      <td>87</td>\n",
       "      <td>179</td>\n",
       "      <td>NaN</td>\n",
       "      <td>40.706808</td>\n",
       "      <td>-74.007496</td>\n",
       "      <td>Manhattan</td>\n",
       "      <td>Financial District North</td>\n",
       "      <td>40.771570</td>\n",
       "      <td>-73.928333</td>\n",
       "      <td>Queens</td>\n",
       "      <td>Old Astoria</td>\n",
       "      <td>6.105477</td>\n",
       "    </tr>\n",
       "    <tr>\n",
       "      <th>3</th>\n",
       "      <td>HV0003</td>\n",
       "      <td>B02883</td>\n",
       "      <td>2020-12-01 00:01:16</td>\n",
       "      <td>2020-12-01 00:20:26</td>\n",
       "      <td>80</td>\n",
       "      <td>92</td>\n",
       "      <td>NaN</td>\n",
       "      <td>40.715370</td>\n",
       "      <td>-73.936793</td>\n",
       "      <td>Brooklyn</td>\n",
       "      <td>East Williamsburg</td>\n",
       "      <td>40.761102</td>\n",
       "      <td>-73.828859</td>\n",
       "      <td>Queens</td>\n",
       "      <td>Flushing</td>\n",
       "      <td>6.480992</td>\n",
       "    </tr>\n",
       "    <tr>\n",
       "      <th>4</th>\n",
       "      <td>HV0003</td>\n",
       "      <td>B02883</td>\n",
       "      <td>2020-12-01 00:32:03</td>\n",
       "      <td>2020-12-01 00:45:18</td>\n",
       "      <td>92</td>\n",
       "      <td>92</td>\n",
       "      <td>NaN</td>\n",
       "      <td>40.761102</td>\n",
       "      <td>-73.828859</td>\n",
       "      <td>Queens</td>\n",
       "      <td>Flushing</td>\n",
       "      <td>40.761102</td>\n",
       "      <td>-73.828859</td>\n",
       "      <td>Queens</td>\n",
       "      <td>Flushing</td>\n",
       "      <td>0.000000</td>\n",
       "    </tr>\n",
       "  </tbody>\n",
       "</table>\n",
       "</div>"
      ],
      "text/plain": [
       "  hvfhs_license_num dispatching_base_num      pickup_datetime  \\\n",
       "0            HV0003               B02764  2020-12-01 00:13:22   \n",
       "1            HV0003               B02764  2020-12-01 00:47:19   \n",
       "2            HV0005               B02510  2020-12-01 00:17:14   \n",
       "3            HV0003               B02883  2020-12-01 00:01:16   \n",
       "4            HV0003               B02883  2020-12-01 00:32:03   \n",
       "\n",
       "      dropoff_datetime  PULocationID  DOLocationID  SR_Flag   x_pickup  \\\n",
       "0  2020-12-01 00:33:53            94            75      NaN  40.858155   \n",
       "1  2020-12-01 00:57:01            75           164      NaN  40.790011   \n",
       "2  2020-12-01 00:37:42            87           179      NaN  40.706808   \n",
       "3  2020-12-01 00:20:26            80            92      NaN  40.715370   \n",
       "4  2020-12-01 00:45:18            92            92      NaN  40.761102   \n",
       "\n",
       "    y_pickup borough_pickup               zone_pickup  x_dropoff  y_dropoff  \\\n",
       "0 -73.899536          Bronx             Fordham South  40.790011 -73.945750   \n",
       "1 -73.945750      Manhattan         East Harlem South  40.748575 -73.985156   \n",
       "2 -74.007496      Manhattan  Financial District North  40.771570 -73.928333   \n",
       "3 -73.936793       Brooklyn         East Williamsburg  40.761102 -73.828859   \n",
       "4 -73.828859         Queens                  Flushing  40.761102 -73.828859   \n",
       "\n",
       "  borough_dropoff       zone_dropoff  distance_in_miles  \n",
       "0       Manhattan  East Harlem South           5.297816  \n",
       "1       Manhattan      Midtown South           3.532023  \n",
       "2          Queens        Old Astoria           6.105477  \n",
       "3          Queens           Flushing           6.480992  \n",
       "4          Queens           Flushing           0.000000  "
      ]
     },
     "execution_count": 35,
     "metadata": {},
     "output_type": "execute_result"
    }
   ],
   "source": [
    "df_hvfhv_combined.head()"
   ]
  },
  {
   "cell_type": "code",
   "execution_count": 49,
   "metadata": {
    "editable": true
   },
   "outputs": [],
   "source": [
    "df_hvfhv_combined[\"time_in_minutes\"] = df_hvfhv_combined.apply(lambda row: calculate_duration(row[\"pickup_datetime\"], row[\"dropoff_datetime\"]), axis=1)"
   ]
  },
  {
   "cell_type": "code",
   "execution_count": 50,
   "metadata": {
    "editable": true
   },
   "outputs": [
    {
     "data": {
      "text/html": [
       "<div>\n",
       "<style scoped>\n",
       "    .dataframe tbody tr th:only-of-type {\n",
       "        vertical-align: middle;\n",
       "    }\n",
       "\n",
       "    .dataframe tbody tr th {\n",
       "        vertical-align: top;\n",
       "    }\n",
       "\n",
       "    .dataframe thead th {\n",
       "        text-align: right;\n",
       "    }\n",
       "</style>\n",
       "<table border=\"1\" class=\"dataframe\">\n",
       "  <thead>\n",
       "    <tr style=\"text-align: right;\">\n",
       "      <th></th>\n",
       "      <th>hvfhs_license_num</th>\n",
       "      <th>dispatching_base_num</th>\n",
       "      <th>pickup_datetime</th>\n",
       "      <th>dropoff_datetime</th>\n",
       "      <th>PULocationID</th>\n",
       "      <th>DOLocationID</th>\n",
       "      <th>SR_Flag</th>\n",
       "      <th>x_pickup</th>\n",
       "      <th>y_pickup</th>\n",
       "      <th>borough_pickup</th>\n",
       "      <th>zone_pickup</th>\n",
       "      <th>x_dropoff</th>\n",
       "      <th>y_dropoff</th>\n",
       "      <th>borough_dropoff</th>\n",
       "      <th>zone_dropoff</th>\n",
       "      <th>distance_in_miles</th>\n",
       "      <th>time_in_minutes</th>\n",
       "    </tr>\n",
       "  </thead>\n",
       "  <tbody>\n",
       "    <tr>\n",
       "      <th>0</th>\n",
       "      <td>HV0003</td>\n",
       "      <td>B02764</td>\n",
       "      <td>2020-12-01 00:13:22</td>\n",
       "      <td>2020-12-01 00:33:53</td>\n",
       "      <td>94</td>\n",
       "      <td>75</td>\n",
       "      <td>NaN</td>\n",
       "      <td>40.858155</td>\n",
       "      <td>-73.899536</td>\n",
       "      <td>Bronx</td>\n",
       "      <td>Fordham South</td>\n",
       "      <td>40.790011</td>\n",
       "      <td>-73.945750</td>\n",
       "      <td>Manhattan</td>\n",
       "      <td>East Harlem South</td>\n",
       "      <td>5.297816</td>\n",
       "      <td>20.516667</td>\n",
       "    </tr>\n",
       "    <tr>\n",
       "      <th>1</th>\n",
       "      <td>HV0003</td>\n",
       "      <td>B02764</td>\n",
       "      <td>2020-12-01 00:47:19</td>\n",
       "      <td>2020-12-01 00:57:01</td>\n",
       "      <td>75</td>\n",
       "      <td>164</td>\n",
       "      <td>NaN</td>\n",
       "      <td>40.790011</td>\n",
       "      <td>-73.945750</td>\n",
       "      <td>Manhattan</td>\n",
       "      <td>East Harlem South</td>\n",
       "      <td>40.748575</td>\n",
       "      <td>-73.985156</td>\n",
       "      <td>Manhattan</td>\n",
       "      <td>Midtown South</td>\n",
       "      <td>3.532023</td>\n",
       "      <td>9.700000</td>\n",
       "    </tr>\n",
       "    <tr>\n",
       "      <th>2</th>\n",
       "      <td>HV0005</td>\n",
       "      <td>B02510</td>\n",
       "      <td>2020-12-01 00:17:14</td>\n",
       "      <td>2020-12-01 00:37:42</td>\n",
       "      <td>87</td>\n",
       "      <td>179</td>\n",
       "      <td>NaN</td>\n",
       "      <td>40.706808</td>\n",
       "      <td>-74.007496</td>\n",
       "      <td>Manhattan</td>\n",
       "      <td>Financial District North</td>\n",
       "      <td>40.771570</td>\n",
       "      <td>-73.928333</td>\n",
       "      <td>Queens</td>\n",
       "      <td>Old Astoria</td>\n",
       "      <td>6.105477</td>\n",
       "      <td>20.466667</td>\n",
       "    </tr>\n",
       "    <tr>\n",
       "      <th>3</th>\n",
       "      <td>HV0003</td>\n",
       "      <td>B02883</td>\n",
       "      <td>2020-12-01 00:01:16</td>\n",
       "      <td>2020-12-01 00:20:26</td>\n",
       "      <td>80</td>\n",
       "      <td>92</td>\n",
       "      <td>NaN</td>\n",
       "      <td>40.715370</td>\n",
       "      <td>-73.936793</td>\n",
       "      <td>Brooklyn</td>\n",
       "      <td>East Williamsburg</td>\n",
       "      <td>40.761102</td>\n",
       "      <td>-73.828859</td>\n",
       "      <td>Queens</td>\n",
       "      <td>Flushing</td>\n",
       "      <td>6.480992</td>\n",
       "      <td>19.166667</td>\n",
       "    </tr>\n",
       "    <tr>\n",
       "      <th>4</th>\n",
       "      <td>HV0003</td>\n",
       "      <td>B02883</td>\n",
       "      <td>2020-12-01 00:32:03</td>\n",
       "      <td>2020-12-01 00:45:18</td>\n",
       "      <td>92</td>\n",
       "      <td>92</td>\n",
       "      <td>NaN</td>\n",
       "      <td>40.761102</td>\n",
       "      <td>-73.828859</td>\n",
       "      <td>Queens</td>\n",
       "      <td>Flushing</td>\n",
       "      <td>40.761102</td>\n",
       "      <td>-73.828859</td>\n",
       "      <td>Queens</td>\n",
       "      <td>Flushing</td>\n",
       "      <td>0.000000</td>\n",
       "      <td>13.250000</td>\n",
       "    </tr>\n",
       "  </tbody>\n",
       "</table>\n",
       "</div>"
      ],
      "text/plain": [
       "  hvfhs_license_num dispatching_base_num      pickup_datetime  \\\n",
       "0            HV0003               B02764  2020-12-01 00:13:22   \n",
       "1            HV0003               B02764  2020-12-01 00:47:19   \n",
       "2            HV0005               B02510  2020-12-01 00:17:14   \n",
       "3            HV0003               B02883  2020-12-01 00:01:16   \n",
       "4            HV0003               B02883  2020-12-01 00:32:03   \n",
       "\n",
       "      dropoff_datetime  PULocationID  DOLocationID  SR_Flag   x_pickup  \\\n",
       "0  2020-12-01 00:33:53            94            75      NaN  40.858155   \n",
       "1  2020-12-01 00:57:01            75           164      NaN  40.790011   \n",
       "2  2020-12-01 00:37:42            87           179      NaN  40.706808   \n",
       "3  2020-12-01 00:20:26            80            92      NaN  40.715370   \n",
       "4  2020-12-01 00:45:18            92            92      NaN  40.761102   \n",
       "\n",
       "    y_pickup borough_pickup               zone_pickup  x_dropoff  y_dropoff  \\\n",
       "0 -73.899536          Bronx             Fordham South  40.790011 -73.945750   \n",
       "1 -73.945750      Manhattan         East Harlem South  40.748575 -73.985156   \n",
       "2 -74.007496      Manhattan  Financial District North  40.771570 -73.928333   \n",
       "3 -73.936793       Brooklyn         East Williamsburg  40.761102 -73.828859   \n",
       "4 -73.828859         Queens                  Flushing  40.761102 -73.828859   \n",
       "\n",
       "  borough_dropoff       zone_dropoff  distance_in_miles  time_in_minutes  \n",
       "0       Manhattan  East Harlem South           5.297816        20.516667  \n",
       "1       Manhattan      Midtown South           3.532023         9.700000  \n",
       "2          Queens        Old Astoria           6.105477        20.466667  \n",
       "3          Queens           Flushing           6.480992        19.166667  \n",
       "4          Queens           Flushing           0.000000        13.250000  "
      ]
     },
     "execution_count": 50,
     "metadata": {},
     "output_type": "execute_result"
    }
   ],
   "source": [
    "df_hvfhv_combined.head()"
   ]
  },
  {
   "cell_type": "code",
   "execution_count": 51,
   "metadata": {
    "editable": true
   },
   "outputs": [],
   "source": [
    "df_hvfhv_combined[\"estimated_fair_dollars\"] = df_hvfhv_combined.apply(lambda row: estimate_fair(row[\"distance_in_miles\"], row[\"time_in_minutes\"]), axis=1)"
   ]
  },
  {
   "cell_type": "code",
   "execution_count": 52,
   "metadata": {
    "editable": true
   },
   "outputs": [
    {
     "data": {
      "text/html": [
       "<div>\n",
       "<style scoped>\n",
       "    .dataframe tbody tr th:only-of-type {\n",
       "        vertical-align: middle;\n",
       "    }\n",
       "\n",
       "    .dataframe tbody tr th {\n",
       "        vertical-align: top;\n",
       "    }\n",
       "\n",
       "    .dataframe thead th {\n",
       "        text-align: right;\n",
       "    }\n",
       "</style>\n",
       "<table border=\"1\" class=\"dataframe\">\n",
       "  <thead>\n",
       "    <tr style=\"text-align: right;\">\n",
       "      <th></th>\n",
       "      <th>hvfhs_license_num</th>\n",
       "      <th>dispatching_base_num</th>\n",
       "      <th>pickup_datetime</th>\n",
       "      <th>dropoff_datetime</th>\n",
       "      <th>PULocationID</th>\n",
       "      <th>DOLocationID</th>\n",
       "      <th>SR_Flag</th>\n",
       "      <th>x_pickup</th>\n",
       "      <th>y_pickup</th>\n",
       "      <th>borough_pickup</th>\n",
       "      <th>zone_pickup</th>\n",
       "      <th>x_dropoff</th>\n",
       "      <th>y_dropoff</th>\n",
       "      <th>borough_dropoff</th>\n",
       "      <th>zone_dropoff</th>\n",
       "      <th>distance_in_miles</th>\n",
       "      <th>time_in_minutes</th>\n",
       "      <th>estimated_fair_dollars</th>\n",
       "    </tr>\n",
       "  </thead>\n",
       "  <tbody>\n",
       "    <tr>\n",
       "      <th>0</th>\n",
       "      <td>HV0003</td>\n",
       "      <td>B02764</td>\n",
       "      <td>2020-12-01 00:13:22</td>\n",
       "      <td>2020-12-01 00:33:53</td>\n",
       "      <td>94</td>\n",
       "      <td>75</td>\n",
       "      <td>NaN</td>\n",
       "      <td>40.858155</td>\n",
       "      <td>-73.899536</td>\n",
       "      <td>Bronx</td>\n",
       "      <td>Fordham South</td>\n",
       "      <td>40.790011</td>\n",
       "      <td>-73.945750</td>\n",
       "      <td>Manhattan</td>\n",
       "      <td>East Harlem South</td>\n",
       "      <td>5.297816</td>\n",
       "      <td>20.516667</td>\n",
       "      <td>20.285070</td>\n",
       "    </tr>\n",
       "    <tr>\n",
       "      <th>1</th>\n",
       "      <td>HV0003</td>\n",
       "      <td>B02764</td>\n",
       "      <td>2020-12-01 00:47:19</td>\n",
       "      <td>2020-12-01 00:57:01</td>\n",
       "      <td>75</td>\n",
       "      <td>164</td>\n",
       "      <td>NaN</td>\n",
       "      <td>40.790011</td>\n",
       "      <td>-73.945750</td>\n",
       "      <td>Manhattan</td>\n",
       "      <td>East Harlem South</td>\n",
       "      <td>40.748575</td>\n",
       "      <td>-73.985156</td>\n",
       "      <td>Manhattan</td>\n",
       "      <td>Midtown South</td>\n",
       "      <td>3.532023</td>\n",
       "      <td>9.700000</td>\n",
       "      <td>15.885742</td>\n",
       "    </tr>\n",
       "    <tr>\n",
       "      <th>2</th>\n",
       "      <td>HV0005</td>\n",
       "      <td>B02510</td>\n",
       "      <td>2020-12-01 00:17:14</td>\n",
       "      <td>2020-12-01 00:37:42</td>\n",
       "      <td>87</td>\n",
       "      <td>179</td>\n",
       "      <td>NaN</td>\n",
       "      <td>40.706808</td>\n",
       "      <td>-74.007496</td>\n",
       "      <td>Manhattan</td>\n",
       "      <td>Financial District North</td>\n",
       "      <td>40.771570</td>\n",
       "      <td>-73.928333</td>\n",
       "      <td>Queens</td>\n",
       "      <td>Old Astoria</td>\n",
       "      <td>6.105477</td>\n",
       "      <td>20.466667</td>\n",
       "      <td>21.047925</td>\n",
       "    </tr>\n",
       "    <tr>\n",
       "      <th>3</th>\n",
       "      <td>HV0003</td>\n",
       "      <td>B02883</td>\n",
       "      <td>2020-12-01 00:01:16</td>\n",
       "      <td>2020-12-01 00:20:26</td>\n",
       "      <td>80</td>\n",
       "      <td>92</td>\n",
       "      <td>NaN</td>\n",
       "      <td>40.715370</td>\n",
       "      <td>-73.936793</td>\n",
       "      <td>Brooklyn</td>\n",
       "      <td>East Williamsburg</td>\n",
       "      <td>40.761102</td>\n",
       "      <td>-73.828859</td>\n",
       "      <td>Queens</td>\n",
       "      <td>Flushing</td>\n",
       "      <td>6.480992</td>\n",
       "      <td>19.166667</td>\n",
       "      <td>21.083419</td>\n",
       "    </tr>\n",
       "    <tr>\n",
       "      <th>4</th>\n",
       "      <td>HV0003</td>\n",
       "      <td>B02883</td>\n",
       "      <td>2020-12-01 00:32:03</td>\n",
       "      <td>2020-12-01 00:45:18</td>\n",
       "      <td>92</td>\n",
       "      <td>92</td>\n",
       "      <td>NaN</td>\n",
       "      <td>40.761102</td>\n",
       "      <td>-73.828859</td>\n",
       "      <td>Queens</td>\n",
       "      <td>Flushing</td>\n",
       "      <td>40.761102</td>\n",
       "      <td>-73.828859</td>\n",
       "      <td>Queens</td>\n",
       "      <td>Flushing</td>\n",
       "      <td>0.000000</td>\n",
       "      <td>13.250000</td>\n",
       "      <td>13.382500</td>\n",
       "    </tr>\n",
       "  </tbody>\n",
       "</table>\n",
       "</div>"
      ],
      "text/plain": [
       "  hvfhs_license_num dispatching_base_num      pickup_datetime  \\\n",
       "0            HV0003               B02764  2020-12-01 00:13:22   \n",
       "1            HV0003               B02764  2020-12-01 00:47:19   \n",
       "2            HV0005               B02510  2020-12-01 00:17:14   \n",
       "3            HV0003               B02883  2020-12-01 00:01:16   \n",
       "4            HV0003               B02883  2020-12-01 00:32:03   \n",
       "\n",
       "      dropoff_datetime  PULocationID  DOLocationID  SR_Flag   x_pickup  \\\n",
       "0  2020-12-01 00:33:53            94            75      NaN  40.858155   \n",
       "1  2020-12-01 00:57:01            75           164      NaN  40.790011   \n",
       "2  2020-12-01 00:37:42            87           179      NaN  40.706808   \n",
       "3  2020-12-01 00:20:26            80            92      NaN  40.715370   \n",
       "4  2020-12-01 00:45:18            92            92      NaN  40.761102   \n",
       "\n",
       "    y_pickup borough_pickup               zone_pickup  x_dropoff  y_dropoff  \\\n",
       "0 -73.899536          Bronx             Fordham South  40.790011 -73.945750   \n",
       "1 -73.945750      Manhattan         East Harlem South  40.748575 -73.985156   \n",
       "2 -74.007496      Manhattan  Financial District North  40.771570 -73.928333   \n",
       "3 -73.936793       Brooklyn         East Williamsburg  40.761102 -73.828859   \n",
       "4 -73.828859         Queens                  Flushing  40.761102 -73.828859   \n",
       "\n",
       "  borough_dropoff       zone_dropoff  distance_in_miles  time_in_minutes  \\\n",
       "0       Manhattan  East Harlem South           5.297816        20.516667   \n",
       "1       Manhattan      Midtown South           3.532023         9.700000   \n",
       "2          Queens        Old Astoria           6.105477        20.466667   \n",
       "3          Queens           Flushing           6.480992        19.166667   \n",
       "4          Queens           Flushing           0.000000        13.250000   \n",
       "\n",
       "   estimated_fair_dollars  \n",
       "0               20.285070  \n",
       "1               15.885742  \n",
       "2               21.047925  \n",
       "3               21.083419  \n",
       "4               13.382500  "
      ]
     },
     "execution_count": 52,
     "metadata": {},
     "output_type": "execute_result"
    }
   ],
   "source": [
    "df_hvfhv_combined.head()"
   ]
  },
  {
   "cell_type": "markdown",
   "metadata": {
    "editable": true
   },
   "source": [
    "### Reading a shapefile from s3\n",
    "\n",
    "s3 path: s3://tlc-nyc-dwh-df/taxi_zones/taxi_zones.shp\n"
   ]
  },
  {
   "cell_type": "code",
   "execution_count": 3,
   "metadata": {
    "editable": true
   },
   "outputs": [
    {
     "name": "stdout",
     "output_type": "stream",
     "text": [
      "Collecting pyshp\n",
      "\u001b[?25l  Downloading https://files.pythonhosted.org/packages/38/85/fbf87e7aa55103e0d06af756bdbc15cf821fa580414c23142d60a35d4f85/pyshp-2.1.3.tar.gz (219kB)\n",
      "\u001b[K    100% |████████████████████████████████| 225kB 7.8MB/s ta 0:00:01\n",
      "\u001b[?25hBuilding wheels for collected packages: pyshp\n",
      "  Running setup.py bdist_wheel for pyshp ... \u001b[?25ldone\n",
      "\u001b[?25h  Stored in directory: /root/.cache/pip/wheels/76/2b/d4/53e6b9a0fb0a9f9f29664cf82605af8bc81d5ab44d987896dd\n",
      "Successfully built pyshp\n",
      "Installing collected packages: pyshp\n",
      "Successfully installed pyshp-2.1.3\n"
     ]
    }
   ],
   "source": [
    "\n",
    "!pip install pyshp"
   ]
  },
  {
   "cell_type": "code",
   "execution_count": 4,
   "metadata": {
    "editable": true
   },
   "outputs": [
    {
     "name": "stdout",
     "output_type": "stream",
     "text": [
      "Collecting fiona\n",
      "\u001b[?25l  Downloading https://files.pythonhosted.org/packages/ed/75/f0bc3be93d860fae56e7916d062a67b39bf10e7b124361eb353d13116263/Fiona-1.8.20-cp36-cp36m-manylinux_2_5_x86_64.manylinux1_x86_64.whl (15.4MB)\n",
      "\u001b[K    100% |████████████████████████████████| 15.4MB 1.8MB/s eta 0:00:01   43% |██████████████                  | 6.7MB 26.1MB/s eta 0:00:01    73% |███████████████████████▌        | 11.3MB 24.5MB/s eta 0:00:01    81% |██████████████████████████      | 12.5MB 26.7MB/s eta 0:00:01\n",
      "\u001b[?25hRequirement already satisfied: click>=4.0 in /opt/conda/lib/python3.6/site-packages (from fiona) (6.7)\n",
      "Requirement already satisfied: six>=1.7 in /opt/conda/lib/python3.6/site-packages (from fiona) (1.11.0)\n",
      "Requirement already satisfied: setuptools in /opt/conda/lib/python3.6/site-packages (from fiona) (38.4.0)\n",
      "Collecting cligj>=0.5 (from fiona)\n",
      "  Downloading https://files.pythonhosted.org/packages/73/86/43fa9f15c5b9fb6e82620428827cd3c284aa933431405d1bcf5231ae3d3e/cligj-0.7.2-py3-none-any.whl\n",
      "Requirement already satisfied: certifi in /opt/conda/lib/python3.6/site-packages (from fiona) (2019.11.28)\n",
      "Collecting munch (from fiona)\n",
      "  Downloading https://files.pythonhosted.org/packages/cc/ab/85d8da5c9a45e072301beb37ad7f833cd344e04c817d97e0cc75681d248f/munch-2.5.0-py2.py3-none-any.whl\n",
      "Requirement already satisfied: attrs>=17 in /opt/conda/lib/python3.6/site-packages (from fiona) (19.1.0)\n",
      "Collecting click-plugins>=1.0 (from fiona)\n",
      "  Downloading https://files.pythonhosted.org/packages/e9/da/824b92d9942f4e472702488857914bdd50f73021efea15b4cad9aca8ecef/click_plugins-1.1.1-py2.py3-none-any.whl\n",
      "Installing collected packages: cligj, munch, click-plugins, fiona\n",
      "Successfully installed click-plugins-1.1.1 cligj-0.7.2 fiona-1.8.20 munch-2.5.0\n"
     ]
    }
   ],
   "source": [
    "!pip install fiona"
   ]
  },
  {
   "cell_type": "code",
   "execution_count": 6,
   "metadata": {
    "editable": true
   },
   "outputs": [
    {
     "name": "stdout",
     "output_type": "stream",
     "text": [
      "Collecting pyproj\n",
      "  Using cached https://files.pythonhosted.org/packages/2c/12/7a8cca32506747c05ffd5c6ba556cf8435754af0939906cbcc7fa5802ea3/pyproj-3.0.1.tar.gz\n",
      "  Installing build dependencies ... \u001b[?25ldone\n",
      "\u001b[?25h    Complete output from command python setup.py egg_info:\n",
      "    proj executable not found. Please set the PROJ_DIR variable. For more information see: https://pyproj4.github.io/pyproj/stable/installation.html\n",
      "    \n",
      "    ----------------------------------------\n",
      "\u001b[31mCommand \"python setup.py egg_info\" failed with error code 1 in /tmp/pip-install-sw36twi5/pyproj/\u001b[0m\n"
     ]
    }
   ],
   "source": [
    "!pip install pyproj"
   ]
  },
  {
   "cell_type": "code",
   "execution_count": 7,
   "metadata": {
    "editable": true
   },
   "outputs": [],
   "source": [
    "import boto3\n",
    "from shapely.geometry import shape\n",
    "from shapely.geometry import Point\n",
    "from shapely.geometry import Polygon\n",
    "from shapely.geometry import mapping\n",
    "from shapely.geometry import asShape\n",
    "import shapefile\n",
    "#from fiona import collection\n",
    "import fiona\n",
    "from fiona.crs import from_epsg\n",
    "import pandas as pd\n",
    "import configparser\n",
    "#import io\n",
    "import json"
   ]
  },
  {
   "cell_type": "code",
   "execution_count": 28,
   "metadata": {
    "editable": true
   },
   "outputs": [],
   "source": [
    "config = configparser.ConfigParser()\n",
    "config.read(\"aws.cfg\")\n",
    "\n",
    "AWS_ACCESS_KEY = config['MASTER']['AWS_ACCESS_KEY']\n",
    "AWS_SECRET_KEY = config['MASTER']['AWS_SECRET_KEY']\n",
    "BUCKET_NAME = \"tlc-nyc-dwh-df\"\n",
    "KEY_NAME = \"taxi_zones/taxi_zones.shp\"\n",
    "\n",
    "\n",
    "session = boto3.Session(aws_access_key_id=AWS_ACCESS_KEY,\n",
    "              aws_secret_access_key=AWS_SECRET_KEY)\n",
    "\n",
    "s3 = session.resource('s3')\n",
    "your_bucket = s3.Bucket(BUCKET_NAME)\n",
    "\n",
    "#for s3_file in your_bucket.objects.all():\n",
    "#    print(s3_file.key) # prints the contents of bucket\n",
    "\n",
    "FILE_LIST = [s3_file.key for s3_file in your_bucket.objects.all()]\n",
    "\n",
    "\n",
    "s3 = boto3.client ('s3',\n",
    "                   aws_access_key_id=AWS_ACCESS_KEY,\n",
    "                   aws_secret_access_key=AWS_SECRET_KEY)\n",
    "\n",
    "for file_key in FILE_LIST:\n",
    "    s3.download_file(BUCKET_NAME, file_key, file_key.split(\"/\")[1])"
   ]
  },
  {
   "cell_type": "code",
   "execution_count": 59,
   "metadata": {
    "editable": true
   },
   "outputs": [],
   "source": [
    "#shape = shapefile.Reader(\"taxi_zones.shp\")\n",
    "#feature = shape.shapeRecords()[0]\n",
    "#first = feature.shape.__geo_interface__  \n",
    "#print(first) # (GeoJSON format)"
   ]
  },
  {
   "cell_type": "code",
   "execution_count": 6,
   "metadata": {
    "editable": true
   },
   "outputs": [
    {
     "name": "stdout",
     "output_type": "stream",
     "text": [
      "{'properties': OrderedDict([('OBJECTID', 'int:9'), ('Shape_Leng', 'float:19.11'), ('Shape_Area', 'float:19.11'), ('zone', 'str:254'), ('LocationID', 'int:4'), ('borough', 'str:254')]), 'geometry': 'Polygon'}\n"
     ]
    }
   ],
   "source": [
    "shape = fiona.open(\"taxi_zones.shp\")\n",
    "print(shape.schema)"
   ]
  },
  {
   "cell_type": "code",
   "execution_count": 14,
   "metadata": {
    "editable": true
   },
   "outputs": [],
   "source": [
    "points = [pt for pt in fiona.open('taxi_zones.shp')]"
   ]
  },
  {
   "cell_type": "code",
   "execution_count": 21,
   "metadata": {
    "editable": true
   },
   "outputs": [
    {
     "data": {
      "text/plain": [
       "\"{'type': 'Feature', 'id': '0', 'properties': OrderedDict([('OBJECTID', 1), ('Shape_Leng', 0.116357453189), ('Shape_Area', 0.0007823067885), ('zone', 'Newark Airport'), ('LocationID', 1), ('borough', 'EWR')]), 'geometry': {'type': 'Polygon', 'coordinates': [[(933100.9183527103, 192536.08569720192), (933091.0114800561, 192572.17526147654), (933088.5848363293, 192604.9701013019), (933121.5604029286, 192857.3815947791), (933149.268070866, 192978.64529974), (933222.303599316, 193293.27321561542), (933252.5816221443, 193450.60036714407), (933297.7228000937, 193555.43279791903), (933330.5712151835, 193748.8233831425), (933350.6320882778, 193794.68697530977), (933355.7056937596, 193834.0240346551), (933365.7979032588, 193886.46647872418), (933431.7392324115, 194391.29051182547), (933465.0379729305, 194801.09275264665), (933463.4338186719, 195227.36293221635), (933471.1052103372, 195315.8792411817), (933483.7536692393, 195397.82719968376), (933511.4361339996, 195509.2545406304), (933554.0907006\""
      ]
     },
     "execution_count": 21,
     "metadata": {},
     "output_type": "execute_result"
    }
   ],
   "source": [
    "str(points[0])[:1000]"
   ]
  },
  {
   "cell_type": "code",
   "execution_count": 54,
   "metadata": {
    "editable": true
   },
   "outputs": [
    {
     "name": "stdout",
     "output_type": "stream",
     "text": [
      "dict_keys(['properties', 'geometry'])\n"
     ]
    }
   ],
   "source": [
    "shape = fiona.open('taxi_zones.shp')\n",
    "#print(shape.schema)\n",
    "print(shape.schema.keys())\n",
    "schema2 = shape.schema.copy()"
   ]
  },
  {
   "cell_type": "code",
   "execution_count": 9,
   "metadata": {
    "editable": true
   },
   "outputs": [],
   "source": [
    "shape = fiona.open('taxi_zones.shp', driver='ESRI Shapefile')\n",
    "schema2 = shape.schema.copy()\n",
    "schema2['properties']['centroid_x']= 'float:19.11'\n",
    "schema2['properties']['centroid_y']= 'float:19.11'\n",
    "\n",
    "with fiona.open(\"zones.shp\", 'w', crs=shape.crs, driver=\"ESRI Shapefile\", schema=schema2) as sink:\n",
    "    \n",
    "    for feature in fiona.open('taxi_zones.shp', \"r\"):\n",
    "\n",
    "        geometry = feature[\"geometry\"]\n",
    "        properties = feature[\"properties\"]\n",
    "\n",
    "        #calculate centroid\n",
    "        geom_obj = asShape(geometry)\n",
    "\n",
    "        try:\n",
    "            centroid = [geom_obj.centroid.x , geom_obj.centroid.y]    \n",
    "        except AttributeError:\n",
    "            print(\"Error: \", feature)\n",
    "            continue\n",
    "        \n",
    "        #point = shapely.geometry.Point()\n",
    "        \n",
    "        # elem is a dictionary with keys\n",
    "        # original shapefile\n",
    "        #print \"original: \", properties\n",
    "        # now add the new value to the dictionary\n",
    "        feature[\"properties\"]['centroid_x'] = (centroid[0])\n",
    "        feature[\"properties\"]['centroid_y'] = (centroid[1])\n",
    "        sink.write(feature)\n",
    "        \n",
    "\n",
    "        "
   ]
  },
  {
   "cell_type": "code",
   "execution_count": 10,
   "metadata": {
    "editable": true
   },
   "outputs": [
    {
     "name": "stdout",
     "output_type": "stream",
     "text": [
      "{'properties': OrderedDict([('OBJECTID', 'int:9'), ('Shape_Leng', 'float:19.11'), ('Shape_Area', 'float:19.11'), ('zone', 'str:254'), ('LocationID', 'int:4'), ('borough', 'str:254'), ('centroid_x', 'float:19.11'), ('centroid_y', 'float:19.11')]), 'geometry': 'Polygon'}\n"
     ]
    }
   ],
   "source": [
    "shape = fiona.open('zones.shp')\n",
    "print(shape.schema)"
   ]
  },
  {
   "cell_type": "code",
   "execution_count": null,
   "metadata": {
    "editable": true
   },
   "outputs": [],
   "source": [
    "for feature in fiona.open('zones.shp', \"r\"):\n",
    "    geometry = feature[\"geometry\"]\n",
    "    print(feature)"
   ]
  },
  {
   "cell_type": "code",
   "execution_count": null,
   "metadata": {
    "editable": true
   },
   "outputs": [],
   "source": []
  }
 ],
 "metadata": {
  "kernelspec": {
   "display_name": "Python 3",
   "language": "python",
   "name": "python3"
  },
  "language_info": {
   "codemirror_mode": {
    "name": "ipython",
    "version": 3
   },
   "file_extension": ".py",
   "mimetype": "text/x-python",
   "name": "python",
   "nbconvert_exporter": "python",
   "pygments_lexer": "ipython3",
   "version": "3.6.3"
  }
 },
 "nbformat": 4,
 "nbformat_minor": 4
}
